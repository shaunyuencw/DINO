{
 "cells": [
  {
   "cell_type": "code",
   "execution_count": 29,
   "metadata": {},
   "outputs": [
    {
     "name": "stdout",
     "output_type": "stream",
     "text": [
      "Requirement already satisfied: plotly in /venv/lib/python3.8/site-packages (5.11.0)\r\n",
      "Requirement already satisfied: tenacity>=6.2.0 in /venv/lib/python3.8/site-packages (from plotly) (8.1.0)\r\n"
     ]
    }
   ],
   "source": [
    "!pip3 install plotly"
   ]
  },
  {
   "cell_type": "code",
   "execution_count": 30,
   "metadata": {},
   "outputs": [],
   "source": [
    "import numpy as np\n",
    "import pandas as pd\n",
    "\n",
    "from collections import OrderedDict\n",
    "from plotly.graph_objs import *\n",
    " \n",
    "import os\n",
    "\n",
    "logs = {}"
   ]
  },
  {
   "cell_type": "code",
   "execution_count": 31,
   "metadata": {},
   "outputs": [
    {
     "name": "stdout",
     "output_type": "stream",
     "text": [
      "['500train', '100train', '200train', '1000train']\n",
      "['500train', '100train', '200train', '1000train']\n"
     ]
    }
   ],
   "source": [
    "# Supervised Logs\n",
    "supervised_logs_names = [f.name for f in os.scandir(\"supervised_logs\") if f.is_file()]\n",
    "\n",
    "supervised_logs_names.sort()\n",
    "supervised_logs_names\n",
    "\n",
    "# DINO (Same Domain) Logs\n",
    "dino_folders = [f.name for f in os.scandir(\"dino_logs\") if f.is_dir()]\n",
    "print(dino_folders)\n",
    "\n",
    "dino_logs_names = {}\n",
    "\n",
    "for folder in dino_folders:\n",
    "    dino_logs_names[folder] = [f.name for f in os.scandir(f\"dino_logs/{folder}\") if f.is_file()]\n",
    "    \n",
    "# DINO (Same Class) Logs\n",
    "ship_experiment_folder = [f.name for f in os.scandir(\"ship_experiment\") if f.is_dir()]\n",
    "print(ship_experiment_folder)\n",
    "\n",
    "se_logs_names = {}\n",
    "\n",
    "for folder in ship_experiment_folder:\n",
    "    se_logs_names[folder] = [f.name for f in os.scandir(f\"ship_experiment/{folder}\") if f.is_file()]\n",
    "    "
   ]
  },
  {
   "cell_type": "code",
   "execution_count": 32,
   "metadata": {},
   "outputs": [],
   "source": [
    "def process_log_format(file_name, log_type):\n",
    "    assert log_type in ('supervised', 'self_supervised'), \"Invalid Log Type\"\n",
    "    \n",
    "    if log_type == \"supervised\":\n",
    "        # Returns Model Architecture and Number of images used\n",
    "        split = file_name.split(\"_\")\n",
    "        return split[0], int(split[2].replace(\"train\", \"\").replace(\".csv\", \"\"))\n",
    "        \n",
    "        \n",
    "    elif log_type == \"self_supervised\":\n",
    "        # Returns Model Architecture and Number of pretext epochs\n",
    "        split = file_name.split(\"_\")\n",
    "        return split[1], int(split[3].replace('.txt', ''))\n",
    "        "
   ]
  },
  {
   "cell_type": "code",
   "execution_count": 33,
   "metadata": {},
   "outputs": [],
   "source": [
    "# Preprocessing for pretext task\n",
    "def process_log(log_name):\n",
    "    log_df = pd.read_csv(log_name, header=None, names=['train_loss', 'train_lr', 'train_wd', 'epoch'])\n",
    "\n",
    "    for col in log_df.columns:\n",
    "        log_df[col] = log_df[col].apply(lambda x : ' '.join(x.split(':')[1:]))\n",
    "\n",
    "    log_df['epoch'] = log_df['epoch'].apply(lambda x : x.replace('}', ''))\n",
    "\n",
    "    # Convert types\n",
    "    for col in log_df.columns:\n",
    "        log_df[col] = pd.to_numeric(log_df[col], errors='coerce')\n",
    "\n",
    "    return log_df"
   ]
  },
  {
   "cell_type": "code",
   "execution_count": 34,
   "metadata": {},
   "outputs": [
    {
     "name": "stdout",
     "output_type": "stream",
     "text": [
      "     train_loss  train_lr  train_wd  epoch\n",
      "0     10.990704  0.000002  0.040007      0\n",
      "1     10.665567  0.000005  0.040051      1\n",
      "2     10.671687  0.000008  0.040139      2\n",
      "3     10.820820  0.000011  0.040271      3\n",
      "4     10.576677  0.000014  0.040447      4\n",
      "..          ...       ...       ...    ...\n",
      "196    2.062722  0.000001  0.399553    196\n",
      "197    2.063016  0.000001  0.399729    197\n",
      "198    2.050508  0.000001  0.399861    198\n",
      "199    2.057217  0.000001  0.399949    199\n",
      "200    2.054417  0.000001  0.399993    200\n",
      "\n",
      "[201 rows x 4 columns]\n",
      "~~~~~~~~~~~~~~~~~~~~~~~~~~~~~~~~~~~~~~~~~~~~~~~~~~\n",
      "     train_loss  train_lr  train_wd  epoch\n",
      "0      9.549437  0.000002  0.040013      0\n",
      "1      9.760854  0.000005  0.040092      1\n",
      "2     10.006563  0.000008  0.040250      2\n",
      "3      9.084784  0.000011  0.040487      3\n",
      "4      8.596706  0.000014  0.040802      4\n",
      "..          ...       ...       ...    ...\n",
      "196    1.549876  0.000001  0.399553    196\n",
      "197    1.544960  0.000001  0.399729    197\n",
      "198    1.541909  0.000001  0.399861    198\n",
      "199    1.539876  0.000001  0.399949    199\n",
      "200    1.544253  0.000001  0.399993    200\n",
      "\n",
      "[201 rows x 4 columns]\n"
     ]
    }
   ],
   "source": [
    "# Processing DINO (Same Class) Pretext Training Logs\n",
    "DINO_class_pretext_log = process_log(\"ship_experiment/vitbase_4to4_log.txt\")\n",
    "print(DINO_class_pretext_log)\n",
    "\n",
    "print(\"~\" * 50)\n",
    "\n",
    "DINO_domain_pretext_log = process_log(\"dino_logs/vitbase_14to4_log.txt\")\n",
    "print(DINO_domain_pretext_log)"
   ]
  },
  {
   "cell_type": "code",
   "execution_count": 35,
   "metadata": {},
   "outputs": [],
   "source": [
    "# Processing Supervised Logs\\\n",
    "supervised_logs = {}\n",
    "sup_max_acc_store = {}\n",
    "\n",
    "for log_file in supervised_logs_names:\n",
    "    arch_name, num_labels = process_log_format(log_file, \"supervised\")\n",
    "    \n",
    "    temp_logs = pd.read_csv(f\"supervised_logs/{log_file}\", sep=',', header=0, usecols=['epoch', 'train_loss', 'train_acc', 'val_loss', 'val_acc'])\n",
    "    \n",
    "    # Create key if not yet initialized\n",
    "    if arch_name not in supervised_logs.keys():\n",
    "        supervised_logs[arch_name] = {}\n",
    "    \n",
    "    # Create key if not yet initialized\n",
    "    if arch_name not in sup_max_acc_store.keys():\n",
    "        sup_max_acc_store[arch_name] = {}\n",
    "    \n",
    "    max_acc = round(temp_logs.val_acc.max() * 100, 4)\n",
    "    \n",
    "    sup_max_acc_store[arch_name][num_labels] = max_acc\n",
    "    supervised_logs[arch_name][num_labels] = temp_logs\n",
    "    \n",
    "for arch_type in supervised_logs.keys():\n",
    "    supervised_logs[arch_type] = OrderedDict(sorted(supervised_logs[arch_type].items()))\n",
    "    sup_max_acc_store[arch_type] = OrderedDict(sorted(sup_max_acc_store[arch_type] .items()))\n",
    "\n",
    "\n",
    "logs[\"supervised\"] = supervised_logs"
   ]
  },
  {
   "cell_type": "code",
   "execution_count": 36,
   "metadata": {},
   "outputs": [],
   "source": [
    "# Processing DINO Logs\n",
    "self_supervised_logs = {}\n",
    "ssl_max_acc_store = {}\n",
    "\n",
    "for folder in dino_folders:\n",
    "    num_labels = int(folder.replace('train', ''))\n",
    "    # Create key if not yet initialized\n",
    "    if num_labels not in self_supervised_logs.keys():\n",
    "        self_supervised_logs[num_labels] = {}\n",
    "        \n",
    "    if num_labels not in ssl_max_acc_store.keys():\n",
    "        ssl_max_acc_store[num_labels] = {}\n",
    "    \n",
    "    for log_file in dino_logs_names[folder]:\n",
    "        arch_name, epochs = process_log_format(log_file, \"self_supervised\")\n",
    "\n",
    "        temp_logs = pd.read_csv(f\"dino_logs/{folder}/{log_file}\", header=None, names=['train_lr', 'train_loss', 'epoch', 'test_loss', 'test_acc1'])\n",
    "\n",
    "        # Abit of post processing\n",
    "        latest_test_loss = 0\n",
    "        latest_test_acc = 0\n",
    "\n",
    "        # Handle NaN\n",
    "        for index, row in temp_logs.iterrows():\n",
    "            if not isinstance(row['test_loss'], str):\n",
    "                row['test_loss'] = latest_test_loss\n",
    "                row['test_acc1'] = latest_test_acc\n",
    "            else:\n",
    "                latest_test_loss = row['test_loss']\n",
    "                latest_test_acc = row['test_acc1']\n",
    "\n",
    "        for col in temp_logs.columns:\n",
    "                temp_logs[col] = temp_logs[col].apply(lambda x : ' '.join(x.split(':')[1:]))\n",
    "                if col == 'epoch' or col == 'test_acc1':\n",
    "                    temp_logs[col] = temp_logs[col].apply(lambda x : x.replace('}', ''))\n",
    "\n",
    "        # Convert types\n",
    "        for col in temp_logs.columns:\n",
    "            temp_logs[col] = pd.to_numeric(temp_logs[col], errors='coerce')\n",
    "\n",
    "        # Create key if not yet initialized\n",
    "        if arch_name not in self_supervised_logs[num_labels].keys():\n",
    "            self_supervised_logs[num_labels][arch_name] = {}\n",
    "\n",
    "        # Create key if not yet initialized\n",
    "        if arch_name not in ssl_max_acc_store[num_labels].keys():\n",
    "            ssl_max_acc_store[num_labels][arch_name] = {}\n",
    "            \n",
    "        \n",
    "        max_acc = round(temp_logs.test_acc1.max(), 4)\n",
    "    \n",
    "        ssl_max_acc_store[num_labels][arch_name][epochs] = max_acc\n",
    "        self_supervised_logs[num_labels][arch_name][epochs] = temp_logs\n",
    "        \n",
    "for folder in dino_folders:\n",
    "    num_labels = int(folder.replace('train', ''))\n",
    "    for arch_name in self_supervised_logs[num_labels].keys():\n",
    "        self_supervised_logs[num_labels][arch_name] = OrderedDict(sorted(self_supervised_logs[num_labels][arch_name].items()))\n",
    "        ssl_max_acc_store[num_labels][arch_name] = OrderedDict(sorted(ssl_max_acc_store[num_labels][arch_name].items()))\n",
    "\n",
    "\n",
    "# self_supervised_logs[NUM_LABELS][ARCH_TYPE][EPOCHS]\n",
    "logs['self_supervised'] = self_supervised_logs\n",
    "    "
   ]
  },
  {
   "cell_type": "code",
   "execution_count": 37,
   "metadata": {},
   "outputs": [],
   "source": [
    "# Processing ship_experiment Logs\n",
    "se_logs = {}\n",
    "se_max_acc_store = {}\n",
    "\n",
    "for folder in ship_experiment_folder:\n",
    "    num_labels = int(folder.replace('train', ''))\n",
    "    # Create key if not yet initialized\n",
    "    if num_labels not in se_logs.keys():\n",
    "        se_logs[num_labels] = {}\n",
    "        \n",
    "    if num_labels not in se_max_acc_store.keys():\n",
    "        se_max_acc_store[num_labels] = {}\n",
    "    \n",
    "    for log_file in se_logs_names[folder]:\n",
    "        arch_name, epochs = process_log_format(log_file, \"self_supervised\")\n",
    "\n",
    "        temp_logs = pd.read_csv(f\"ship_experiment/{folder}/{log_file}\", header=None, names=['train_lr', 'train_loss', 'epoch', 'test_loss', 'test_acc1'])\n",
    "\n",
    "        # Abit of post processing\n",
    "        latest_test_loss = 0\n",
    "        latest_test_acc = 0\n",
    "\n",
    "        # Handle NaN\n",
    "        for index, row in temp_logs.iterrows():\n",
    "            if not isinstance(row['test_loss'], str):\n",
    "                row['test_loss'] = latest_test_loss\n",
    "                row['test_acc1'] = latest_test_acc\n",
    "            else:\n",
    "                latest_test_loss = row['test_loss']\n",
    "                latest_test_acc = row['test_acc1']\n",
    "\n",
    "        for col in temp_logs.columns:\n",
    "                temp_logs[col] = temp_logs[col].apply(lambda x : ' '.join(x.split(':')[1:]))\n",
    "                if col == 'epoch' or col == 'test_acc1':\n",
    "                    temp_logs[col] = temp_logs[col].apply(lambda x : x.replace('}', ''))\n",
    "\n",
    "        # Convert types\n",
    "        for col in temp_logs.columns:\n",
    "            temp_logs[col] = pd.to_numeric(temp_logs[col], errors='coerce')\n",
    "\n",
    "        # Create key if not yet initialized\n",
    "        if arch_name not in se_logs[num_labels].keys():\n",
    "            se_logs[num_labels][arch_name] = {}\n",
    "\n",
    "        # Create key if not yet initialized\n",
    "        if arch_name not in se_max_acc_store[num_labels].keys():\n",
    "            se_max_acc_store[num_labels][arch_name] = {}\n",
    "            \n",
    "        \n",
    "        max_acc = round(temp_logs.test_acc1.max(), 4)\n",
    "    \n",
    "        se_max_acc_store[num_labels][arch_name][epochs] = max_acc\n",
    "        se_logs[num_labels][arch_name][epochs] = temp_logs\n",
    "        \n",
    "for folder in ship_experiment_folder:\n",
    "    num_labels = int(folder.replace('train', ''))\n",
    "    for arch_name in se_logs[num_labels].keys():\n",
    "        se_logs[num_labels][arch_name] = OrderedDict(sorted(se_logs[num_labels][arch_name].items()))\n",
    "        se_max_acc_store[num_labels][arch_name] = OrderedDict(sorted(se_max_acc_store[num_labels][arch_name].items()))\n",
    "\n",
    "\n",
    "# se_logs[NUM_LABELS][ARCH_TYPE][EPOCHS]\n",
    "logs['ship_experiment'] = se_logs\n",
    "    "
   ]
  },
  {
   "cell_type": "code",
   "execution_count": 38,
   "metadata": {},
   "outputs": [
    {
     "data": {
      "text/plain": [
       "['500train', '100train', '200train', '1000train']"
      ]
     },
     "execution_count": 38,
     "metadata": {},
     "output_type": "execute_result"
    }
   ],
   "source": [
    "ship_experiment_folder"
   ]
  },
  {
   "cell_type": "code",
   "execution_count": 39,
   "metadata": {},
   "outputs": [
    {
     "data": {
      "text/plain": [
       "dict_keys(['vitbase'])"
      ]
     },
     "execution_count": 39,
     "metadata": {},
     "output_type": "execute_result"
    }
   ],
   "source": [
    "logs['self_supervised'][num_labels].keys()"
   ]
  },
  {
   "cell_type": "code",
   "execution_count": 40,
   "metadata": {},
   "outputs": [],
   "source": [
    "# for arch_type in logs['supervised'].keys():\n",
    "#     for num_labels in supervised_logs[arch_type]:\n",
    "#         print(f\"{arch_type} with {num_labels} labelled training data has max top1 accuracy of {sup_max_acc_store[arch_type][num_labels]}%\")\n",
    "        \n",
    "# for num_labels in logs['self_supervised'].keys():\n",
    "#     for arch_type in logs['self_supervised'][num_labels].keys():\n",
    "#         for epochs in logs['self_supervised'][num_labels][arch_type].keys():\n",
    "#             print(f\"DINO ({arch_type}) with {num_labels} labelled training data and {epochs} pretext epochs has max top1 accuracy of {ssl_max_acc_store[num_labels][arch_type][epochs]}%\")"
   ]
  },
  {
   "cell_type": "code",
   "execution_count": 41,
   "metadata": {},
   "outputs": [],
   "source": [
    "arch_types=['alexnet', 'deitbase', 'resnet50', 'dino (vitbase)']\n",
    "num_labels_type = ['100', '200', '500', '1000']"
   ]
  },
  {
   "cell_type": "code",
   "execution_count": 42,
   "metadata": {},
   "outputs": [
    {
     "name": "stdout",
     "output_type": "stream",
     "text": [
      "OrderedDict([(100, 91.80000048828126), (200, 93.05000067138673), (500, 94.85000036621092), (1000, 95.7500005493164)])\n"
     ]
    }
   ],
   "source": [
    "dino_max_by_numlabels = {}\n",
    "\n",
    "for num_labels in logs[\"self_supervised\"].keys():\n",
    "    max_for_label = -1\n",
    "    for num_epochs in logs[\"self_supervised\"][num_labels]['vitbase'].keys():\n",
    "        if logs[\"self_supervised\"][num_labels][\"vitbase\"][num_epochs].test_acc1.max() > max_for_label:\n",
    "            max_for_label = logs[\"self_supervised\"][num_labels][\"vitbase\"][num_epochs].test_acc1.max()\n",
    "        \n",
    "        dino_max_by_numlabels[num_labels] = max_for_label\n",
    "        \n",
    "dino_max_by_numlabels = OrderedDict(sorted(dino_max_by_numlabels.items()))\n",
    "    \n",
    "logs[\"self_supervised\"][100]['vitbase'].keys()\n",
    "for num_labels in num_labels_type:\n",
    "    if int(num_labels) not in dino_max_by_numlabels.keys():\n",
    "        dino_max_by_numlabels[int(num_labels)] = 0\n",
    "        dino_max_by_numlabels = OrderedDict(sorted(dino_max_by_numlabels.items()))\n",
    "        \n",
    "print(dino_max_by_numlabels)"
   ]
  },
  {
   "cell_type": "code",
   "execution_count": 43,
   "metadata": {},
   "outputs": [
    {
     "name": "stdout",
     "output_type": "stream",
     "text": [
      "OrderedDict([(100, 93.5), (200, 94.60000073242188), (500, 95.05000073242188), (1000, 95.0500005493164)])\n"
     ]
    }
   ],
   "source": [
    "se_max_by_numlabels = {}\n",
    "\n",
    "for num_labels in logs[\"ship_experiment\"].keys():\n",
    "    max_for_label = -1\n",
    "    for num_epochs in logs[\"ship_experiment\"][num_labels]['vitbase'].keys():\n",
    "        if logs[\"ship_experiment\"][num_labels][\"vitbase\"][num_epochs].test_acc1.max() > max_for_label:\n",
    "            max_for_label = logs[\"ship_experiment\"][num_labels][\"vitbase\"][num_epochs].test_acc1.max()\n",
    "        \n",
    "        se_max_by_numlabels[num_labels] = max_for_label\n",
    "        #print(num_epochs, logs[\"ship_experiment\"][num_labels][\"vitbase\"][num_epochs].test_acc1.max())\n",
    "        \n",
    "se_max_by_numlabels = OrderedDict(sorted(se_max_by_numlabels.items()))\n",
    "    \n",
    "logs[\"ship_experiment\"][100]['vitbase'].keys()\n",
    "for num_labels in num_labels_type:\n",
    "    if int(num_labels) not in se_max_by_numlabels.keys():\n",
    "        se_max_by_numlabels[int(num_labels)] = 0\n",
    "        se_max_by_numlabels = OrderedDict(sorted(se_max_by_numlabels.items()))\n",
    "        \n",
    "print(se_max_by_numlabels)"
   ]
  },
  {
   "cell_type": "code",
   "execution_count": 44,
   "metadata": {},
   "outputs": [
    {
     "data": {
      "text/plain": [
       "dict_keys(['supervised', 'self_supervised', 'ship_experiment'])"
      ]
     },
     "execution_count": 44,
     "metadata": {},
     "output_type": "execute_result"
    }
   ],
   "source": [
    "logs.keys()"
   ]
  },
  {
   "cell_type": "code",
   "execution_count": 45,
   "metadata": {},
   "outputs": [],
   "source": [
    "for arch in arch_types[:3]:\n",
    "    for num_labels in num_labels_type:\n",
    "        if int(num_labels) not in sup_max_acc_store[arch].keys():\n",
    "            sup_max_acc_store[arch][int(num_labels)] = 0\n",
    "            sup_max_acc_store[arch] = OrderedDict(sorted(sup_max_acc_store[arch].items()))\n",
    "\n",
    "simclr_max_acc_store = [87.70492, 88.89344, 89.75410, 90.40983]"
   ]
  },
  {
   "cell_type": "code",
   "execution_count": 52,
   "metadata": {},
   "outputs": [
    {
     "data": {
      "application/vnd.plotly.v1+json": {
       "config": {
        "plotlyServerURL": "https://plot.ly"
       },
       "data": [
        {
         "marker": {
          "color": "dodgerblue"
         },
         "name": "Deit Base",
         "type": "bar",
         "x": [
          "100",
          "200",
          "500",
          "1000"
         ],
         "y": [
          0,
          50.15,
          57.2,
          59.6
         ]
        },
        {
         "marker": {
          "color": "blueviolet"
         },
         "name": "Resnet50",
         "type": "bar",
         "x": [
          "100",
          "200",
          "500",
          "1000"
         ],
         "y": [
          60.7,
          71.1,
          81.75,
          88.6
         ]
        },
        {
         "marker": {
          "color": "darkmagenta"
         },
         "name": "Alexnet",
         "type": "bar",
         "x": [
          "100",
          "200",
          "500",
          "1000"
         ],
         "y": [
          78.3,
          82.8,
          88.8,
          91.7
         ]
        },
        {
         "marker": {
          "color": "darkorange"
         },
         "name": "DINO Same Domain(vit_base)",
         "type": "bar",
         "x": [
          "100",
          "200",
          "500",
          "1000"
         ],
         "y": [
          91.80000048828126,
          93.05000067138673,
          94.85000036621092,
          95.7500005493164
         ]
        },
        {
         "marker": {
          "color": "red"
         },
         "name": "DINO Same Class (vit_base)",
         "type": "bar",
         "x": [
          "100",
          "200",
          "500",
          "1000"
         ],
         "y": [
          93.5,
          94.60000073242188,
          95.05000073242188,
          95.0500005493164
         ]
        }
       ],
       "layout": {
        "barmode": "group",
        "font": {
         "color": "black"
        },
        "legend": {
         "title": {
          "text": "Architecture"
         }
        },
        "template": {
         "data": {
          "bar": [
           {
            "error_x": {
             "color": "#2a3f5f"
            },
            "error_y": {
             "color": "#2a3f5f"
            },
            "marker": {
             "line": {
              "color": "#E5ECF6",
              "width": 0.5
             },
             "pattern": {
              "fillmode": "overlay",
              "size": 10,
              "solidity": 0.2
             }
            },
            "type": "bar"
           }
          ],
          "barpolar": [
           {
            "marker": {
             "line": {
              "color": "#E5ECF6",
              "width": 0.5
             },
             "pattern": {
              "fillmode": "overlay",
              "size": 10,
              "solidity": 0.2
             }
            },
            "type": "barpolar"
           }
          ],
          "carpet": [
           {
            "aaxis": {
             "endlinecolor": "#2a3f5f",
             "gridcolor": "white",
             "linecolor": "white",
             "minorgridcolor": "white",
             "startlinecolor": "#2a3f5f"
            },
            "baxis": {
             "endlinecolor": "#2a3f5f",
             "gridcolor": "white",
             "linecolor": "white",
             "minorgridcolor": "white",
             "startlinecolor": "#2a3f5f"
            },
            "type": "carpet"
           }
          ],
          "choropleth": [
           {
            "colorbar": {
             "outlinewidth": 0,
             "ticks": ""
            },
            "type": "choropleth"
           }
          ],
          "contour": [
           {
            "colorbar": {
             "outlinewidth": 0,
             "ticks": ""
            },
            "colorscale": [
             [
              0,
              "#0d0887"
             ],
             [
              0.1111111111111111,
              "#46039f"
             ],
             [
              0.2222222222222222,
              "#7201a8"
             ],
             [
              0.3333333333333333,
              "#9c179e"
             ],
             [
              0.4444444444444444,
              "#bd3786"
             ],
             [
              0.5555555555555556,
              "#d8576b"
             ],
             [
              0.6666666666666666,
              "#ed7953"
             ],
             [
              0.7777777777777778,
              "#fb9f3a"
             ],
             [
              0.8888888888888888,
              "#fdca26"
             ],
             [
              1,
              "#f0f921"
             ]
            ],
            "type": "contour"
           }
          ],
          "contourcarpet": [
           {
            "colorbar": {
             "outlinewidth": 0,
             "ticks": ""
            },
            "type": "contourcarpet"
           }
          ],
          "heatmap": [
           {
            "colorbar": {
             "outlinewidth": 0,
             "ticks": ""
            },
            "colorscale": [
             [
              0,
              "#0d0887"
             ],
             [
              0.1111111111111111,
              "#46039f"
             ],
             [
              0.2222222222222222,
              "#7201a8"
             ],
             [
              0.3333333333333333,
              "#9c179e"
             ],
             [
              0.4444444444444444,
              "#bd3786"
             ],
             [
              0.5555555555555556,
              "#d8576b"
             ],
             [
              0.6666666666666666,
              "#ed7953"
             ],
             [
              0.7777777777777778,
              "#fb9f3a"
             ],
             [
              0.8888888888888888,
              "#fdca26"
             ],
             [
              1,
              "#f0f921"
             ]
            ],
            "type": "heatmap"
           }
          ],
          "heatmapgl": [
           {
            "colorbar": {
             "outlinewidth": 0,
             "ticks": ""
            },
            "colorscale": [
             [
              0,
              "#0d0887"
             ],
             [
              0.1111111111111111,
              "#46039f"
             ],
             [
              0.2222222222222222,
              "#7201a8"
             ],
             [
              0.3333333333333333,
              "#9c179e"
             ],
             [
              0.4444444444444444,
              "#bd3786"
             ],
             [
              0.5555555555555556,
              "#d8576b"
             ],
             [
              0.6666666666666666,
              "#ed7953"
             ],
             [
              0.7777777777777778,
              "#fb9f3a"
             ],
             [
              0.8888888888888888,
              "#fdca26"
             ],
             [
              1,
              "#f0f921"
             ]
            ],
            "type": "heatmapgl"
           }
          ],
          "histogram": [
           {
            "marker": {
             "pattern": {
              "fillmode": "overlay",
              "size": 10,
              "solidity": 0.2
             }
            },
            "type": "histogram"
           }
          ],
          "histogram2d": [
           {
            "colorbar": {
             "outlinewidth": 0,
             "ticks": ""
            },
            "colorscale": [
             [
              0,
              "#0d0887"
             ],
             [
              0.1111111111111111,
              "#46039f"
             ],
             [
              0.2222222222222222,
              "#7201a8"
             ],
             [
              0.3333333333333333,
              "#9c179e"
             ],
             [
              0.4444444444444444,
              "#bd3786"
             ],
             [
              0.5555555555555556,
              "#d8576b"
             ],
             [
              0.6666666666666666,
              "#ed7953"
             ],
             [
              0.7777777777777778,
              "#fb9f3a"
             ],
             [
              0.8888888888888888,
              "#fdca26"
             ],
             [
              1,
              "#f0f921"
             ]
            ],
            "type": "histogram2d"
           }
          ],
          "histogram2dcontour": [
           {
            "colorbar": {
             "outlinewidth": 0,
             "ticks": ""
            },
            "colorscale": [
             [
              0,
              "#0d0887"
             ],
             [
              0.1111111111111111,
              "#46039f"
             ],
             [
              0.2222222222222222,
              "#7201a8"
             ],
             [
              0.3333333333333333,
              "#9c179e"
             ],
             [
              0.4444444444444444,
              "#bd3786"
             ],
             [
              0.5555555555555556,
              "#d8576b"
             ],
             [
              0.6666666666666666,
              "#ed7953"
             ],
             [
              0.7777777777777778,
              "#fb9f3a"
             ],
             [
              0.8888888888888888,
              "#fdca26"
             ],
             [
              1,
              "#f0f921"
             ]
            ],
            "type": "histogram2dcontour"
           }
          ],
          "mesh3d": [
           {
            "colorbar": {
             "outlinewidth": 0,
             "ticks": ""
            },
            "type": "mesh3d"
           }
          ],
          "parcoords": [
           {
            "line": {
             "colorbar": {
              "outlinewidth": 0,
              "ticks": ""
             }
            },
            "type": "parcoords"
           }
          ],
          "pie": [
           {
            "automargin": true,
            "type": "pie"
           }
          ],
          "scatter": [
           {
            "fillpattern": {
             "fillmode": "overlay",
             "size": 10,
             "solidity": 0.2
            },
            "type": "scatter"
           }
          ],
          "scatter3d": [
           {
            "line": {
             "colorbar": {
              "outlinewidth": 0,
              "ticks": ""
             }
            },
            "marker": {
             "colorbar": {
              "outlinewidth": 0,
              "ticks": ""
             }
            },
            "type": "scatter3d"
           }
          ],
          "scattercarpet": [
           {
            "marker": {
             "colorbar": {
              "outlinewidth": 0,
              "ticks": ""
             }
            },
            "type": "scattercarpet"
           }
          ],
          "scattergeo": [
           {
            "marker": {
             "colorbar": {
              "outlinewidth": 0,
              "ticks": ""
             }
            },
            "type": "scattergeo"
           }
          ],
          "scattergl": [
           {
            "marker": {
             "colorbar": {
              "outlinewidth": 0,
              "ticks": ""
             }
            },
            "type": "scattergl"
           }
          ],
          "scattermapbox": [
           {
            "marker": {
             "colorbar": {
              "outlinewidth": 0,
              "ticks": ""
             }
            },
            "type": "scattermapbox"
           }
          ],
          "scatterpolar": [
           {
            "marker": {
             "colorbar": {
              "outlinewidth": 0,
              "ticks": ""
             }
            },
            "type": "scatterpolar"
           }
          ],
          "scatterpolargl": [
           {
            "marker": {
             "colorbar": {
              "outlinewidth": 0,
              "ticks": ""
             }
            },
            "type": "scatterpolargl"
           }
          ],
          "scatterternary": [
           {
            "marker": {
             "colorbar": {
              "outlinewidth": 0,
              "ticks": ""
             }
            },
            "type": "scatterternary"
           }
          ],
          "surface": [
           {
            "colorbar": {
             "outlinewidth": 0,
             "ticks": ""
            },
            "colorscale": [
             [
              0,
              "#0d0887"
             ],
             [
              0.1111111111111111,
              "#46039f"
             ],
             [
              0.2222222222222222,
              "#7201a8"
             ],
             [
              0.3333333333333333,
              "#9c179e"
             ],
             [
              0.4444444444444444,
              "#bd3786"
             ],
             [
              0.5555555555555556,
              "#d8576b"
             ],
             [
              0.6666666666666666,
              "#ed7953"
             ],
             [
              0.7777777777777778,
              "#fb9f3a"
             ],
             [
              0.8888888888888888,
              "#fdca26"
             ],
             [
              1,
              "#f0f921"
             ]
            ],
            "type": "surface"
           }
          ],
          "table": [
           {
            "cells": {
             "fill": {
              "color": "#EBF0F8"
             },
             "line": {
              "color": "white"
             }
            },
            "header": {
             "fill": {
              "color": "#C8D4E3"
             },
             "line": {
              "color": "white"
             }
            },
            "type": "table"
           }
          ]
         },
         "layout": {
          "annotationdefaults": {
           "arrowcolor": "#2a3f5f",
           "arrowhead": 0,
           "arrowwidth": 1
          },
          "autotypenumbers": "strict",
          "coloraxis": {
           "colorbar": {
            "outlinewidth": 0,
            "ticks": ""
           }
          },
          "colorscale": {
           "diverging": [
            [
             0,
             "#8e0152"
            ],
            [
             0.1,
             "#c51b7d"
            ],
            [
             0.2,
             "#de77ae"
            ],
            [
             0.3,
             "#f1b6da"
            ],
            [
             0.4,
             "#fde0ef"
            ],
            [
             0.5,
             "#f7f7f7"
            ],
            [
             0.6,
             "#e6f5d0"
            ],
            [
             0.7,
             "#b8e186"
            ],
            [
             0.8,
             "#7fbc41"
            ],
            [
             0.9,
             "#4d9221"
            ],
            [
             1,
             "#276419"
            ]
           ],
           "sequential": [
            [
             0,
             "#0d0887"
            ],
            [
             0.1111111111111111,
             "#46039f"
            ],
            [
             0.2222222222222222,
             "#7201a8"
            ],
            [
             0.3333333333333333,
             "#9c179e"
            ],
            [
             0.4444444444444444,
             "#bd3786"
            ],
            [
             0.5555555555555556,
             "#d8576b"
            ],
            [
             0.6666666666666666,
             "#ed7953"
            ],
            [
             0.7777777777777778,
             "#fb9f3a"
            ],
            [
             0.8888888888888888,
             "#fdca26"
            ],
            [
             1,
             "#f0f921"
            ]
           ],
           "sequentialminus": [
            [
             0,
             "#0d0887"
            ],
            [
             0.1111111111111111,
             "#46039f"
            ],
            [
             0.2222222222222222,
             "#7201a8"
            ],
            [
             0.3333333333333333,
             "#9c179e"
            ],
            [
             0.4444444444444444,
             "#bd3786"
            ],
            [
             0.5555555555555556,
             "#d8576b"
            ],
            [
             0.6666666666666666,
             "#ed7953"
            ],
            [
             0.7777777777777778,
             "#fb9f3a"
            ],
            [
             0.8888888888888888,
             "#fdca26"
            ],
            [
             1,
             "#f0f921"
            ]
           ]
          },
          "colorway": [
           "#636efa",
           "#EF553B",
           "#00cc96",
           "#ab63fa",
           "#FFA15A",
           "#19d3f3",
           "#FF6692",
           "#B6E880",
           "#FF97FF",
           "#FECB52"
          ],
          "font": {
           "color": "#2a3f5f"
          },
          "geo": {
           "bgcolor": "white",
           "lakecolor": "white",
           "landcolor": "#E5ECF6",
           "showlakes": true,
           "showland": true,
           "subunitcolor": "white"
          },
          "hoverlabel": {
           "align": "left"
          },
          "hovermode": "closest",
          "mapbox": {
           "style": "light"
          },
          "paper_bgcolor": "white",
          "plot_bgcolor": "#E5ECF6",
          "polar": {
           "angularaxis": {
            "gridcolor": "white",
            "linecolor": "white",
            "ticks": ""
           },
           "bgcolor": "#E5ECF6",
           "radialaxis": {
            "gridcolor": "white",
            "linecolor": "white",
            "ticks": ""
           }
          },
          "scene": {
           "xaxis": {
            "backgroundcolor": "#E5ECF6",
            "gridcolor": "white",
            "gridwidth": 2,
            "linecolor": "white",
            "showbackground": true,
            "ticks": "",
            "zerolinecolor": "white"
           },
           "yaxis": {
            "backgroundcolor": "#E5ECF6",
            "gridcolor": "white",
            "gridwidth": 2,
            "linecolor": "white",
            "showbackground": true,
            "ticks": "",
            "zerolinecolor": "white"
           },
           "zaxis": {
            "backgroundcolor": "#E5ECF6",
            "gridcolor": "white",
            "gridwidth": 2,
            "linecolor": "white",
            "showbackground": true,
            "ticks": "",
            "zerolinecolor": "white"
           }
          },
          "shapedefaults": {
           "line": {
            "color": "#2a3f5f"
           }
          },
          "ternary": {
           "aaxis": {
            "gridcolor": "white",
            "linecolor": "white",
            "ticks": ""
           },
           "baxis": {
            "gridcolor": "white",
            "linecolor": "white",
            "ticks": ""
           },
           "bgcolor": "#E5ECF6",
           "caxis": {
            "gridcolor": "white",
            "linecolor": "white",
            "ticks": ""
           }
          },
          "title": {
           "x": 0.05
          },
          "xaxis": {
           "automargin": true,
           "gridcolor": "white",
           "linecolor": "white",
           "ticks": "",
           "title": {
            "standoff": 15
           },
           "zerolinecolor": "white",
           "zerolinewidth": 2
          },
          "yaxis": {
           "automargin": true,
           "gridcolor": "white",
           "linecolor": "white",
           "ticks": "",
           "title": {
            "standoff": 15
           },
           "zerolinecolor": "white",
           "zerolinewidth": 2
          }
         }
        },
        "title": {
         "text": "Supervised vs Self-Supervised Benchmarks"
        },
        "xaxis": {
         "title": {
          "text": "Number of labeled data per class"
         }
        },
        "yaxis": {
         "range": [
          50,
          100
         ],
         "title": {
          "text": "Top1 Accuracy"
         }
        }
       }
      },
      "text/html": [
       "<div>                            <div id=\"6dc08e60-7642-4262-978f-232e648657b6\" class=\"plotly-graph-div\" style=\"height:525px; width:100%;\"></div>            <script type=\"text/javascript\">                require([\"plotly\"], function(Plotly) {                    window.PLOTLYENV=window.PLOTLYENV || {};                                    if (document.getElementById(\"6dc08e60-7642-4262-978f-232e648657b6\")) {                    Plotly.newPlot(                        \"6dc08e60-7642-4262-978f-232e648657b6\",                        [{\"marker\":{\"color\":\"dodgerblue\"},\"name\":\"Deit Base\",\"x\":[\"100\",\"200\",\"500\",\"1000\"],\"y\":[0,50.15,57.2,59.6],\"type\":\"bar\"},{\"marker\":{\"color\":\"blueviolet\"},\"name\":\"Resnet50\",\"x\":[\"100\",\"200\",\"500\",\"1000\"],\"y\":[60.7,71.1,81.75,88.6],\"type\":\"bar\"},{\"marker\":{\"color\":\"darkmagenta\"},\"name\":\"Alexnet\",\"x\":[\"100\",\"200\",\"500\",\"1000\"],\"y\":[78.3,82.8,88.8,91.7],\"type\":\"bar\"},{\"marker\":{\"color\":\"darkorange\"},\"name\":\"DINO Same Domain(vit_base)\",\"x\":[\"100\",\"200\",\"500\",\"1000\"],\"y\":[91.80000048828126,93.05000067138673,94.85000036621092,95.7500005493164],\"type\":\"bar\"},{\"marker\":{\"color\":\"red\"},\"name\":\"DINO Same Class (vit_base)\",\"x\":[\"100\",\"200\",\"500\",\"1000\"],\"y\":[93.5,94.60000073242188,95.05000073242188,95.0500005493164],\"type\":\"bar\"}],                        {\"template\":{\"data\":{\"histogram2dcontour\":[{\"type\":\"histogram2dcontour\",\"colorbar\":{\"outlinewidth\":0,\"ticks\":\"\"},\"colorscale\":[[0.0,\"#0d0887\"],[0.1111111111111111,\"#46039f\"],[0.2222222222222222,\"#7201a8\"],[0.3333333333333333,\"#9c179e\"],[0.4444444444444444,\"#bd3786\"],[0.5555555555555556,\"#d8576b\"],[0.6666666666666666,\"#ed7953\"],[0.7777777777777778,\"#fb9f3a\"],[0.8888888888888888,\"#fdca26\"],[1.0,\"#f0f921\"]]}],\"choropleth\":[{\"type\":\"choropleth\",\"colorbar\":{\"outlinewidth\":0,\"ticks\":\"\"}}],\"histogram2d\":[{\"type\":\"histogram2d\",\"colorbar\":{\"outlinewidth\":0,\"ticks\":\"\"},\"colorscale\":[[0.0,\"#0d0887\"],[0.1111111111111111,\"#46039f\"],[0.2222222222222222,\"#7201a8\"],[0.3333333333333333,\"#9c179e\"],[0.4444444444444444,\"#bd3786\"],[0.5555555555555556,\"#d8576b\"],[0.6666666666666666,\"#ed7953\"],[0.7777777777777778,\"#fb9f3a\"],[0.8888888888888888,\"#fdca26\"],[1.0,\"#f0f921\"]]}],\"heatmap\":[{\"type\":\"heatmap\",\"colorbar\":{\"outlinewidth\":0,\"ticks\":\"\"},\"colorscale\":[[0.0,\"#0d0887\"],[0.1111111111111111,\"#46039f\"],[0.2222222222222222,\"#7201a8\"],[0.3333333333333333,\"#9c179e\"],[0.4444444444444444,\"#bd3786\"],[0.5555555555555556,\"#d8576b\"],[0.6666666666666666,\"#ed7953\"],[0.7777777777777778,\"#fb9f3a\"],[0.8888888888888888,\"#fdca26\"],[1.0,\"#f0f921\"]]}],\"heatmapgl\":[{\"type\":\"heatmapgl\",\"colorbar\":{\"outlinewidth\":0,\"ticks\":\"\"},\"colorscale\":[[0.0,\"#0d0887\"],[0.1111111111111111,\"#46039f\"],[0.2222222222222222,\"#7201a8\"],[0.3333333333333333,\"#9c179e\"],[0.4444444444444444,\"#bd3786\"],[0.5555555555555556,\"#d8576b\"],[0.6666666666666666,\"#ed7953\"],[0.7777777777777778,\"#fb9f3a\"],[0.8888888888888888,\"#fdca26\"],[1.0,\"#f0f921\"]]}],\"contourcarpet\":[{\"type\":\"contourcarpet\",\"colorbar\":{\"outlinewidth\":0,\"ticks\":\"\"}}],\"contour\":[{\"type\":\"contour\",\"colorbar\":{\"outlinewidth\":0,\"ticks\":\"\"},\"colorscale\":[[0.0,\"#0d0887\"],[0.1111111111111111,\"#46039f\"],[0.2222222222222222,\"#7201a8\"],[0.3333333333333333,\"#9c179e\"],[0.4444444444444444,\"#bd3786\"],[0.5555555555555556,\"#d8576b\"],[0.6666666666666666,\"#ed7953\"],[0.7777777777777778,\"#fb9f3a\"],[0.8888888888888888,\"#fdca26\"],[1.0,\"#f0f921\"]]}],\"surface\":[{\"type\":\"surface\",\"colorbar\":{\"outlinewidth\":0,\"ticks\":\"\"},\"colorscale\":[[0.0,\"#0d0887\"],[0.1111111111111111,\"#46039f\"],[0.2222222222222222,\"#7201a8\"],[0.3333333333333333,\"#9c179e\"],[0.4444444444444444,\"#bd3786\"],[0.5555555555555556,\"#d8576b\"],[0.6666666666666666,\"#ed7953\"],[0.7777777777777778,\"#fb9f3a\"],[0.8888888888888888,\"#fdca26\"],[1.0,\"#f0f921\"]]}],\"mesh3d\":[{\"type\":\"mesh3d\",\"colorbar\":{\"outlinewidth\":0,\"ticks\":\"\"}}],\"scatter\":[{\"fillpattern\":{\"fillmode\":\"overlay\",\"size\":10,\"solidity\":0.2},\"type\":\"scatter\"}],\"parcoords\":[{\"type\":\"parcoords\",\"line\":{\"colorbar\":{\"outlinewidth\":0,\"ticks\":\"\"}}}],\"scatterpolargl\":[{\"type\":\"scatterpolargl\",\"marker\":{\"colorbar\":{\"outlinewidth\":0,\"ticks\":\"\"}}}],\"bar\":[{\"error_x\":{\"color\":\"#2a3f5f\"},\"error_y\":{\"color\":\"#2a3f5f\"},\"marker\":{\"line\":{\"color\":\"#E5ECF6\",\"width\":0.5},\"pattern\":{\"fillmode\":\"overlay\",\"size\":10,\"solidity\":0.2}},\"type\":\"bar\"}],\"scattergeo\":[{\"type\":\"scattergeo\",\"marker\":{\"colorbar\":{\"outlinewidth\":0,\"ticks\":\"\"}}}],\"scatterpolar\":[{\"type\":\"scatterpolar\",\"marker\":{\"colorbar\":{\"outlinewidth\":0,\"ticks\":\"\"}}}],\"histogram\":[{\"marker\":{\"pattern\":{\"fillmode\":\"overlay\",\"size\":10,\"solidity\":0.2}},\"type\":\"histogram\"}],\"scattergl\":[{\"type\":\"scattergl\",\"marker\":{\"colorbar\":{\"outlinewidth\":0,\"ticks\":\"\"}}}],\"scatter3d\":[{\"type\":\"scatter3d\",\"line\":{\"colorbar\":{\"outlinewidth\":0,\"ticks\":\"\"}},\"marker\":{\"colorbar\":{\"outlinewidth\":0,\"ticks\":\"\"}}}],\"scattermapbox\":[{\"type\":\"scattermapbox\",\"marker\":{\"colorbar\":{\"outlinewidth\":0,\"ticks\":\"\"}}}],\"scatterternary\":[{\"type\":\"scatterternary\",\"marker\":{\"colorbar\":{\"outlinewidth\":0,\"ticks\":\"\"}}}],\"scattercarpet\":[{\"type\":\"scattercarpet\",\"marker\":{\"colorbar\":{\"outlinewidth\":0,\"ticks\":\"\"}}}],\"carpet\":[{\"aaxis\":{\"endlinecolor\":\"#2a3f5f\",\"gridcolor\":\"white\",\"linecolor\":\"white\",\"minorgridcolor\":\"white\",\"startlinecolor\":\"#2a3f5f\"},\"baxis\":{\"endlinecolor\":\"#2a3f5f\",\"gridcolor\":\"white\",\"linecolor\":\"white\",\"minorgridcolor\":\"white\",\"startlinecolor\":\"#2a3f5f\"},\"type\":\"carpet\"}],\"table\":[{\"cells\":{\"fill\":{\"color\":\"#EBF0F8\"},\"line\":{\"color\":\"white\"}},\"header\":{\"fill\":{\"color\":\"#C8D4E3\"},\"line\":{\"color\":\"white\"}},\"type\":\"table\"}],\"barpolar\":[{\"marker\":{\"line\":{\"color\":\"#E5ECF6\",\"width\":0.5},\"pattern\":{\"fillmode\":\"overlay\",\"size\":10,\"solidity\":0.2}},\"type\":\"barpolar\"}],\"pie\":[{\"automargin\":true,\"type\":\"pie\"}]},\"layout\":{\"autotypenumbers\":\"strict\",\"colorway\":[\"#636efa\",\"#EF553B\",\"#00cc96\",\"#ab63fa\",\"#FFA15A\",\"#19d3f3\",\"#FF6692\",\"#B6E880\",\"#FF97FF\",\"#FECB52\"],\"font\":{\"color\":\"#2a3f5f\"},\"hovermode\":\"closest\",\"hoverlabel\":{\"align\":\"left\"},\"paper_bgcolor\":\"white\",\"plot_bgcolor\":\"#E5ECF6\",\"polar\":{\"bgcolor\":\"#E5ECF6\",\"angularaxis\":{\"gridcolor\":\"white\",\"linecolor\":\"white\",\"ticks\":\"\"},\"radialaxis\":{\"gridcolor\":\"white\",\"linecolor\":\"white\",\"ticks\":\"\"}},\"ternary\":{\"bgcolor\":\"#E5ECF6\",\"aaxis\":{\"gridcolor\":\"white\",\"linecolor\":\"white\",\"ticks\":\"\"},\"baxis\":{\"gridcolor\":\"white\",\"linecolor\":\"white\",\"ticks\":\"\"},\"caxis\":{\"gridcolor\":\"white\",\"linecolor\":\"white\",\"ticks\":\"\"}},\"coloraxis\":{\"colorbar\":{\"outlinewidth\":0,\"ticks\":\"\"}},\"colorscale\":{\"sequential\":[[0.0,\"#0d0887\"],[0.1111111111111111,\"#46039f\"],[0.2222222222222222,\"#7201a8\"],[0.3333333333333333,\"#9c179e\"],[0.4444444444444444,\"#bd3786\"],[0.5555555555555556,\"#d8576b\"],[0.6666666666666666,\"#ed7953\"],[0.7777777777777778,\"#fb9f3a\"],[0.8888888888888888,\"#fdca26\"],[1.0,\"#f0f921\"]],\"sequentialminus\":[[0.0,\"#0d0887\"],[0.1111111111111111,\"#46039f\"],[0.2222222222222222,\"#7201a8\"],[0.3333333333333333,\"#9c179e\"],[0.4444444444444444,\"#bd3786\"],[0.5555555555555556,\"#d8576b\"],[0.6666666666666666,\"#ed7953\"],[0.7777777777777778,\"#fb9f3a\"],[0.8888888888888888,\"#fdca26\"],[1.0,\"#f0f921\"]],\"diverging\":[[0,\"#8e0152\"],[0.1,\"#c51b7d\"],[0.2,\"#de77ae\"],[0.3,\"#f1b6da\"],[0.4,\"#fde0ef\"],[0.5,\"#f7f7f7\"],[0.6,\"#e6f5d0\"],[0.7,\"#b8e186\"],[0.8,\"#7fbc41\"],[0.9,\"#4d9221\"],[1,\"#276419\"]]},\"xaxis\":{\"gridcolor\":\"white\",\"linecolor\":\"white\",\"ticks\":\"\",\"title\":{\"standoff\":15},\"zerolinecolor\":\"white\",\"automargin\":true,\"zerolinewidth\":2},\"yaxis\":{\"gridcolor\":\"white\",\"linecolor\":\"white\",\"ticks\":\"\",\"title\":{\"standoff\":15},\"zerolinecolor\":\"white\",\"automargin\":true,\"zerolinewidth\":2},\"scene\":{\"xaxis\":{\"backgroundcolor\":\"#E5ECF6\",\"gridcolor\":\"white\",\"linecolor\":\"white\",\"showbackground\":true,\"ticks\":\"\",\"zerolinecolor\":\"white\",\"gridwidth\":2},\"yaxis\":{\"backgroundcolor\":\"#E5ECF6\",\"gridcolor\":\"white\",\"linecolor\":\"white\",\"showbackground\":true,\"ticks\":\"\",\"zerolinecolor\":\"white\",\"gridwidth\":2},\"zaxis\":{\"backgroundcolor\":\"#E5ECF6\",\"gridcolor\":\"white\",\"linecolor\":\"white\",\"showbackground\":true,\"ticks\":\"\",\"zerolinecolor\":\"white\",\"gridwidth\":2}},\"shapedefaults\":{\"line\":{\"color\":\"#2a3f5f\"}},\"annotationdefaults\":{\"arrowcolor\":\"#2a3f5f\",\"arrowhead\":0,\"arrowwidth\":1},\"geo\":{\"bgcolor\":\"white\",\"landcolor\":\"#E5ECF6\",\"subunitcolor\":\"white\",\"showland\":true,\"showlakes\":true,\"lakecolor\":\"white\"},\"title\":{\"x\":0.05},\"mapbox\":{\"style\":\"light\"}}},\"font\":{\"color\":\"black\"},\"barmode\":\"group\",\"title\":{\"text\":\"Supervised vs Self-Supervised Benchmarks\"},\"xaxis\":{\"title\":{\"text\":\"Number of labeled data per class\"}},\"yaxis\":{\"title\":{\"text\":\"Top1 Accuracy\"},\"range\":[50,100]},\"legend\":{\"title\":{\"text\":\"Architecture\"}}},                        {\"responsive\": true}                    ).then(function(){\n",
       "                            \n",
       "var gd = document.getElementById('6dc08e60-7642-4262-978f-232e648657b6');\n",
       "var x = new MutationObserver(function (mutations, observer) {{\n",
       "        var display = window.getComputedStyle(gd).display;\n",
       "        if (!display || display === 'none') {{\n",
       "            console.log([gd, 'removed!']);\n",
       "            Plotly.purge(gd);\n",
       "            observer.disconnect();\n",
       "        }}\n",
       "}});\n",
       "\n",
       "// Listen for the removal of the full notebook cells\n",
       "var notebookContainer = gd.closest('#notebook-container');\n",
       "if (notebookContainer) {{\n",
       "    x.observe(notebookContainer, {childList: true});\n",
       "}}\n",
       "\n",
       "// Listen for the clearing of the current output cell\n",
       "var outputEl = gd.closest('.output');\n",
       "if (outputEl) {{\n",
       "    x.observe(outputEl, {childList: true});\n",
       "}}\n",
       "\n",
       "                        })                };                });            </script>        </div>"
      ]
     },
     "metadata": {},
     "output_type": "display_data"
    }
   ],
   "source": [
    "import plotly.graph_objects as go\n",
    "\n",
    "layout = Layout(\n",
    "\n",
    ")\n",
    "\n",
    "\n",
    "fig = go.Figure(data=[\n",
    "    go.Bar(name='Deit Base', x=num_labels_type, y=tuple(sup_max_acc_store['deitbase'].values()), marker_color=\"dodgerblue\"),\n",
    "    go.Bar(name='Resnet50', x=num_labels_type, y=tuple(sup_max_acc_store['resnet50'].values()), marker_color=\"blueviolet\"),\n",
    "    go.Bar(name='Alexnet', x=num_labels_type, y=tuple(sup_max_acc_store['alexnet'].values()), marker_color=\"darkmagenta\"),\n",
    "    #go.Bar(name='SimCLR (resnet50)', x=num_labels_type, y=simclr_max_acc_store, marker_color=\"gold\"),\n",
    "    go.Bar(name='DINO Same Domain(vit_base)', x=num_labels_type, y=tuple(dino_max_by_numlabels.values()), marker_color=\"darkorange\"),\n",
    "    go.Bar(name='DINO Same Class (vit_base)', x=num_labels_type, y=tuple(se_max_by_numlabels.values()), marker_color=\"red\"),\n",
    "], layout=layout)\n",
    "\n",
    "fig.update_layout(\n",
    "    barmode='group',\n",
    "    title=\"Supervised vs Self-Supervised Benchmarks\",\n",
    "    xaxis_title=\"Number of labeled data per class\",\n",
    "    yaxis_title=\"Top1 Accuracy\",\n",
    "    legend_title=\"Architecture\",\n",
    "    font=dict(\n",
    "        color=\"black\",\n",
    "    )\n",
    ")\n",
    "\n",
    "#fig.update_xaxes(range=[1.5, 4.5])\n",
    "fig.update_yaxes(range=[50, 100])\n",
    "fig.show()"
   ]
  },
  {
   "cell_type": "code",
   "execution_count": 47,
   "metadata": {},
   "outputs": [
    {
     "name": "stdout",
     "output_type": "stream",
     "text": [
      "odict_keys([0, 10, 20, 30, 40, 50, 60, 70, 80, 90, 100, 120, 140, 160, 180, 200])\n"
     ]
    },
    {
     "data": {
      "text/html": [
       "<div>\n",
       "<style scoped>\n",
       "    .dataframe tbody tr th:only-of-type {\n",
       "        vertical-align: middle;\n",
       "    }\n",
       "\n",
       "    .dataframe tbody tr th {\n",
       "        vertical-align: top;\n",
       "    }\n",
       "\n",
       "    .dataframe thead th {\n",
       "        text-align: right;\n",
       "    }\n",
       "</style>\n",
       "<table border=\"1\" class=\"dataframe\">\n",
       "  <thead>\n",
       "    <tr style=\"text-align: right;\">\n",
       "      <th></th>\n",
       "      <th>train_lr</th>\n",
       "      <th>train_loss</th>\n",
       "      <th>epoch</th>\n",
       "      <th>test_loss</th>\n",
       "      <th>test_acc1</th>\n",
       "    </tr>\n",
       "  </thead>\n",
       "  <tbody>\n",
       "    <tr>\n",
       "      <th>0</th>\n",
       "      <td>1.000000e-03</td>\n",
       "      <td>1.446139</td>\n",
       "      <td>0</td>\n",
       "      <td>1.346696</td>\n",
       "      <td>34.40</td>\n",
       "    </tr>\n",
       "    <tr>\n",
       "      <th>1</th>\n",
       "      <td>9.997533e-04</td>\n",
       "      <td>1.361173</td>\n",
       "      <td>1</td>\n",
       "      <td>1.346696</td>\n",
       "      <td>34.40</td>\n",
       "    </tr>\n",
       "    <tr>\n",
       "      <th>2</th>\n",
       "      <td>9.990134e-04</td>\n",
       "      <td>1.255673</td>\n",
       "      <td>2</td>\n",
       "      <td>1.346696</td>\n",
       "      <td>34.40</td>\n",
       "    </tr>\n",
       "    <tr>\n",
       "      <th>3</th>\n",
       "      <td>9.977810e-04</td>\n",
       "      <td>1.215496</td>\n",
       "      <td>3</td>\n",
       "      <td>1.346696</td>\n",
       "      <td>34.40</td>\n",
       "    </tr>\n",
       "    <tr>\n",
       "      <th>4</th>\n",
       "      <td>9.960574e-04</td>\n",
       "      <td>1.157777</td>\n",
       "      <td>4</td>\n",
       "      <td>1.346696</td>\n",
       "      <td>34.40</td>\n",
       "    </tr>\n",
       "    <tr>\n",
       "      <th>...</th>\n",
       "      <td>...</td>\n",
       "      <td>...</td>\n",
       "      <td>...</td>\n",
       "      <td>...</td>\n",
       "      <td>...</td>\n",
       "    </tr>\n",
       "    <tr>\n",
       "      <th>95</th>\n",
       "      <td>6.155830e-06</td>\n",
       "      <td>0.740319</td>\n",
       "      <td>95</td>\n",
       "      <td>0.786730</td>\n",
       "      <td>69.75</td>\n",
       "    </tr>\n",
       "    <tr>\n",
       "      <th>96</th>\n",
       "      <td>3.942649e-06</td>\n",
       "      <td>0.698608</td>\n",
       "      <td>96</td>\n",
       "      <td>0.786730</td>\n",
       "      <td>69.75</td>\n",
       "    </tr>\n",
       "    <tr>\n",
       "      <th>97</th>\n",
       "      <td>2.219018e-06</td>\n",
       "      <td>0.725134</td>\n",
       "      <td>97</td>\n",
       "      <td>0.786730</td>\n",
       "      <td>69.75</td>\n",
       "    </tr>\n",
       "    <tr>\n",
       "      <th>98</th>\n",
       "      <td>9.866358e-07</td>\n",
       "      <td>0.708642</td>\n",
       "      <td>98</td>\n",
       "      <td>0.786730</td>\n",
       "      <td>69.75</td>\n",
       "    </tr>\n",
       "    <tr>\n",
       "      <th>99</th>\n",
       "      <td>2.467198e-07</td>\n",
       "      <td>0.749281</td>\n",
       "      <td>99</td>\n",
       "      <td>0.786683</td>\n",
       "      <td>69.75</td>\n",
       "    </tr>\n",
       "  </tbody>\n",
       "</table>\n",
       "<p>100 rows × 5 columns</p>\n",
       "</div>"
      ],
      "text/plain": [
       "        train_lr  train_loss  epoch  test_loss  test_acc1\n",
       "0   1.000000e-03    1.446139      0   1.346696      34.40\n",
       "1   9.997533e-04    1.361173      1   1.346696      34.40\n",
       "2   9.990134e-04    1.255673      2   1.346696      34.40\n",
       "3   9.977810e-04    1.215496      3   1.346696      34.40\n",
       "4   9.960574e-04    1.157777      4   1.346696      34.40\n",
       "..           ...         ...    ...        ...        ...\n",
       "95  6.155830e-06    0.740319     95   0.786730      69.75\n",
       "96  3.942649e-06    0.698608     96   0.786730      69.75\n",
       "97  2.219018e-06    0.725134     97   0.786730      69.75\n",
       "98  9.866358e-07    0.708642     98   0.786730      69.75\n",
       "99  2.467198e-07    0.749281     99   0.786683      69.75\n",
       "\n",
       "[100 rows x 5 columns]"
      ]
     },
     "execution_count": 47,
     "metadata": {},
     "output_type": "execute_result"
    }
   ],
   "source": [
    "print(logs['self_supervised'][100]['vitbase'].keys())\n",
    "\n",
    "logs['self_supervised'][100]['vitbase'][10]"
   ]
  },
  {
   "cell_type": "code",
   "execution_count": 48,
   "metadata": {},
   "outputs": [
    {
     "name": "stdout",
     "output_type": "stream",
     "text": [
      "odict_keys([0, 10, 20, 30, 40, 50, 60, 70, 80, 90, 100, 120, 140, 150, 160, 180, 200])\n"
     ]
    }
   ],
   "source": [
    "print(ssl_max_acc_store[200]['vitbase'].keys())\n",
    "\n"
   ]
  },
  {
   "cell_type": "code",
   "execution_count": 49,
   "metadata": {},
   "outputs": [
    {
     "data": {
      "application/vnd.plotly.v1+json": {
       "config": {
        "plotlyServerURL": "https://plot.ly"
       },
       "data": [
        {
         "line": {
          "color": "aqua",
          "width": 2
         },
         "name": "Same Domain (100 labels/class)",
         "type": "scatter",
         "x": [
          0,
          10,
          20,
          30,
          40,
          50,
          60,
          70,
          80,
          90,
          100,
          120,
          140,
          160,
          180,
          200
         ],
         "y": [
          48.6,
          69.75,
          76.15,
          81,
          85.15,
          87.1,
          88.4,
          90.1,
          90.55,
          90.4,
          91.15,
          91.1,
          90.75,
          91.5,
          91.8,
          90.05
         ]
        },
        {
         "line": {
          "color": "darkturquoise",
          "width": 2
         },
         "name": "Same Domain (200 labels/class)",
         "type": "scatter",
         "x": [
          0,
          10,
          20,
          30,
          40,
          50,
          60,
          70,
          80,
          90,
          100,
          120,
          140,
          150,
          160,
          180,
          200
         ],
         "y": [
          50.2,
          74.1,
          79.2,
          84.3,
          87,
          89.15,
          90.55,
          92.25,
          92.5,
          92.65,
          92.8,
          93,
          92.9,
          92.95,
          92.9,
          93.05,
          92.7
         ]
        },
        {
         "line": {
          "color": "dodgerblue",
          "width": 2
         },
         "name": "Same Domain (500 labels/class)",
         "type": "scatter",
         "x": [
          0,
          10,
          20,
          30,
          40,
          50,
          60,
          70,
          80,
          90,
          100,
          120,
          140,
          160,
          180,
          200
         ],
         "y": [
          56.25,
          77.3,
          82.35,
          86.75,
          90.2,
          92.95,
          92.9,
          94.05,
          94.3,
          94.45,
          94.2,
          94.6,
          94.7,
          94.85,
          94.45,
          94.6
         ]
        },
        {
         "line": {
          "color": "blanchedalmond",
          "width": 2
         },
         "name": "Same Class (100 labels/class)",
         "type": "scatter",
         "x": [
          0,
          10,
          20,
          30,
          40,
          50,
          60,
          70,
          80,
          90,
          100,
          120,
          140,
          160,
          180,
          200
         ],
         "y": [
          49.25,
          66.125,
          78.5,
          82.875,
          86.375,
          89.875,
          90.375,
          90.75,
          92.125,
          92.125,
          92.75,
          92.625,
          92.75,
          93.375,
          93,
          93.5
         ]
        },
        {
         "line": {
          "color": "sandybrown",
          "width": 2
         },
         "name": "Same Class (200 labels/class)",
         "type": "scatter",
         "x": [
          0,
          10,
          20,
          30,
          40,
          50,
          60,
          70,
          80,
          90,
          100,
          120,
          140,
          160,
          180,
          200
         ],
         "y": [
          47.05,
          69.3,
          78.45,
          85,
          87.75,
          89.6,
          91.3,
          92.8,
          93.85,
          94.1,
          94.35,
          94.45,
          94.6,
          94.3,
          93.95,
          94.3
         ]
        },
        {
         "line": {
          "color": "coral",
          "width": 2
         },
         "name": "Same Class (500 labels/class)",
         "type": "scatter",
         "x": [
          0,
          10,
          20,
          30,
          40,
          50,
          60,
          70,
          80,
          90,
          100,
          120,
          140,
          160,
          180,
          200
         ],
         "y": [
          53.65,
          71.25,
          79.9,
          85.6,
          88.45,
          90.7,
          92.35,
          93.9,
          94.05,
          94.75,
          95.05,
          94.85,
          94.85,
          94.7,
          94.65,
          94.55
         ]
        }
       ],
       "layout": {
        "barmode": "group",
        "font": {
         "color": "black"
        },
        "legend": {
         "title": {
          "text": "Experiment Type"
         }
        },
        "template": {
         "data": {
          "bar": [
           {
            "error_x": {
             "color": "#2a3f5f"
            },
            "error_y": {
             "color": "#2a3f5f"
            },
            "marker": {
             "line": {
              "color": "#E5ECF6",
              "width": 0.5
             },
             "pattern": {
              "fillmode": "overlay",
              "size": 10,
              "solidity": 0.2
             }
            },
            "type": "bar"
           }
          ],
          "barpolar": [
           {
            "marker": {
             "line": {
              "color": "#E5ECF6",
              "width": 0.5
             },
             "pattern": {
              "fillmode": "overlay",
              "size": 10,
              "solidity": 0.2
             }
            },
            "type": "barpolar"
           }
          ],
          "carpet": [
           {
            "aaxis": {
             "endlinecolor": "#2a3f5f",
             "gridcolor": "white",
             "linecolor": "white",
             "minorgridcolor": "white",
             "startlinecolor": "#2a3f5f"
            },
            "baxis": {
             "endlinecolor": "#2a3f5f",
             "gridcolor": "white",
             "linecolor": "white",
             "minorgridcolor": "white",
             "startlinecolor": "#2a3f5f"
            },
            "type": "carpet"
           }
          ],
          "choropleth": [
           {
            "colorbar": {
             "outlinewidth": 0,
             "ticks": ""
            },
            "type": "choropleth"
           }
          ],
          "contour": [
           {
            "colorbar": {
             "outlinewidth": 0,
             "ticks": ""
            },
            "colorscale": [
             [
              0,
              "#0d0887"
             ],
             [
              0.1111111111111111,
              "#46039f"
             ],
             [
              0.2222222222222222,
              "#7201a8"
             ],
             [
              0.3333333333333333,
              "#9c179e"
             ],
             [
              0.4444444444444444,
              "#bd3786"
             ],
             [
              0.5555555555555556,
              "#d8576b"
             ],
             [
              0.6666666666666666,
              "#ed7953"
             ],
             [
              0.7777777777777778,
              "#fb9f3a"
             ],
             [
              0.8888888888888888,
              "#fdca26"
             ],
             [
              1,
              "#f0f921"
             ]
            ],
            "type": "contour"
           }
          ],
          "contourcarpet": [
           {
            "colorbar": {
             "outlinewidth": 0,
             "ticks": ""
            },
            "type": "contourcarpet"
           }
          ],
          "heatmap": [
           {
            "colorbar": {
             "outlinewidth": 0,
             "ticks": ""
            },
            "colorscale": [
             [
              0,
              "#0d0887"
             ],
             [
              0.1111111111111111,
              "#46039f"
             ],
             [
              0.2222222222222222,
              "#7201a8"
             ],
             [
              0.3333333333333333,
              "#9c179e"
             ],
             [
              0.4444444444444444,
              "#bd3786"
             ],
             [
              0.5555555555555556,
              "#d8576b"
             ],
             [
              0.6666666666666666,
              "#ed7953"
             ],
             [
              0.7777777777777778,
              "#fb9f3a"
             ],
             [
              0.8888888888888888,
              "#fdca26"
             ],
             [
              1,
              "#f0f921"
             ]
            ],
            "type": "heatmap"
           }
          ],
          "heatmapgl": [
           {
            "colorbar": {
             "outlinewidth": 0,
             "ticks": ""
            },
            "colorscale": [
             [
              0,
              "#0d0887"
             ],
             [
              0.1111111111111111,
              "#46039f"
             ],
             [
              0.2222222222222222,
              "#7201a8"
             ],
             [
              0.3333333333333333,
              "#9c179e"
             ],
             [
              0.4444444444444444,
              "#bd3786"
             ],
             [
              0.5555555555555556,
              "#d8576b"
             ],
             [
              0.6666666666666666,
              "#ed7953"
             ],
             [
              0.7777777777777778,
              "#fb9f3a"
             ],
             [
              0.8888888888888888,
              "#fdca26"
             ],
             [
              1,
              "#f0f921"
             ]
            ],
            "type": "heatmapgl"
           }
          ],
          "histogram": [
           {
            "marker": {
             "pattern": {
              "fillmode": "overlay",
              "size": 10,
              "solidity": 0.2
             }
            },
            "type": "histogram"
           }
          ],
          "histogram2d": [
           {
            "colorbar": {
             "outlinewidth": 0,
             "ticks": ""
            },
            "colorscale": [
             [
              0,
              "#0d0887"
             ],
             [
              0.1111111111111111,
              "#46039f"
             ],
             [
              0.2222222222222222,
              "#7201a8"
             ],
             [
              0.3333333333333333,
              "#9c179e"
             ],
             [
              0.4444444444444444,
              "#bd3786"
             ],
             [
              0.5555555555555556,
              "#d8576b"
             ],
             [
              0.6666666666666666,
              "#ed7953"
             ],
             [
              0.7777777777777778,
              "#fb9f3a"
             ],
             [
              0.8888888888888888,
              "#fdca26"
             ],
             [
              1,
              "#f0f921"
             ]
            ],
            "type": "histogram2d"
           }
          ],
          "histogram2dcontour": [
           {
            "colorbar": {
             "outlinewidth": 0,
             "ticks": ""
            },
            "colorscale": [
             [
              0,
              "#0d0887"
             ],
             [
              0.1111111111111111,
              "#46039f"
             ],
             [
              0.2222222222222222,
              "#7201a8"
             ],
             [
              0.3333333333333333,
              "#9c179e"
             ],
             [
              0.4444444444444444,
              "#bd3786"
             ],
             [
              0.5555555555555556,
              "#d8576b"
             ],
             [
              0.6666666666666666,
              "#ed7953"
             ],
             [
              0.7777777777777778,
              "#fb9f3a"
             ],
             [
              0.8888888888888888,
              "#fdca26"
             ],
             [
              1,
              "#f0f921"
             ]
            ],
            "type": "histogram2dcontour"
           }
          ],
          "mesh3d": [
           {
            "colorbar": {
             "outlinewidth": 0,
             "ticks": ""
            },
            "type": "mesh3d"
           }
          ],
          "parcoords": [
           {
            "line": {
             "colorbar": {
              "outlinewidth": 0,
              "ticks": ""
             }
            },
            "type": "parcoords"
           }
          ],
          "pie": [
           {
            "automargin": true,
            "type": "pie"
           }
          ],
          "scatter": [
           {
            "fillpattern": {
             "fillmode": "overlay",
             "size": 10,
             "solidity": 0.2
            },
            "type": "scatter"
           }
          ],
          "scatter3d": [
           {
            "line": {
             "colorbar": {
              "outlinewidth": 0,
              "ticks": ""
             }
            },
            "marker": {
             "colorbar": {
              "outlinewidth": 0,
              "ticks": ""
             }
            },
            "type": "scatter3d"
           }
          ],
          "scattercarpet": [
           {
            "marker": {
             "colorbar": {
              "outlinewidth": 0,
              "ticks": ""
             }
            },
            "type": "scattercarpet"
           }
          ],
          "scattergeo": [
           {
            "marker": {
             "colorbar": {
              "outlinewidth": 0,
              "ticks": ""
             }
            },
            "type": "scattergeo"
           }
          ],
          "scattergl": [
           {
            "marker": {
             "colorbar": {
              "outlinewidth": 0,
              "ticks": ""
             }
            },
            "type": "scattergl"
           }
          ],
          "scattermapbox": [
           {
            "marker": {
             "colorbar": {
              "outlinewidth": 0,
              "ticks": ""
             }
            },
            "type": "scattermapbox"
           }
          ],
          "scatterpolar": [
           {
            "marker": {
             "colorbar": {
              "outlinewidth": 0,
              "ticks": ""
             }
            },
            "type": "scatterpolar"
           }
          ],
          "scatterpolargl": [
           {
            "marker": {
             "colorbar": {
              "outlinewidth": 0,
              "ticks": ""
             }
            },
            "type": "scatterpolargl"
           }
          ],
          "scatterternary": [
           {
            "marker": {
             "colorbar": {
              "outlinewidth": 0,
              "ticks": ""
             }
            },
            "type": "scatterternary"
           }
          ],
          "surface": [
           {
            "colorbar": {
             "outlinewidth": 0,
             "ticks": ""
            },
            "colorscale": [
             [
              0,
              "#0d0887"
             ],
             [
              0.1111111111111111,
              "#46039f"
             ],
             [
              0.2222222222222222,
              "#7201a8"
             ],
             [
              0.3333333333333333,
              "#9c179e"
             ],
             [
              0.4444444444444444,
              "#bd3786"
             ],
             [
              0.5555555555555556,
              "#d8576b"
             ],
             [
              0.6666666666666666,
              "#ed7953"
             ],
             [
              0.7777777777777778,
              "#fb9f3a"
             ],
             [
              0.8888888888888888,
              "#fdca26"
             ],
             [
              1,
              "#f0f921"
             ]
            ],
            "type": "surface"
           }
          ],
          "table": [
           {
            "cells": {
             "fill": {
              "color": "#EBF0F8"
             },
             "line": {
              "color": "white"
             }
            },
            "header": {
             "fill": {
              "color": "#C8D4E3"
             },
             "line": {
              "color": "white"
             }
            },
            "type": "table"
           }
          ]
         },
         "layout": {
          "annotationdefaults": {
           "arrowcolor": "#2a3f5f",
           "arrowhead": 0,
           "arrowwidth": 1
          },
          "autotypenumbers": "strict",
          "coloraxis": {
           "colorbar": {
            "outlinewidth": 0,
            "ticks": ""
           }
          },
          "colorscale": {
           "diverging": [
            [
             0,
             "#8e0152"
            ],
            [
             0.1,
             "#c51b7d"
            ],
            [
             0.2,
             "#de77ae"
            ],
            [
             0.3,
             "#f1b6da"
            ],
            [
             0.4,
             "#fde0ef"
            ],
            [
             0.5,
             "#f7f7f7"
            ],
            [
             0.6,
             "#e6f5d0"
            ],
            [
             0.7,
             "#b8e186"
            ],
            [
             0.8,
             "#7fbc41"
            ],
            [
             0.9,
             "#4d9221"
            ],
            [
             1,
             "#276419"
            ]
           ],
           "sequential": [
            [
             0,
             "#0d0887"
            ],
            [
             0.1111111111111111,
             "#46039f"
            ],
            [
             0.2222222222222222,
             "#7201a8"
            ],
            [
             0.3333333333333333,
             "#9c179e"
            ],
            [
             0.4444444444444444,
             "#bd3786"
            ],
            [
             0.5555555555555556,
             "#d8576b"
            ],
            [
             0.6666666666666666,
             "#ed7953"
            ],
            [
             0.7777777777777778,
             "#fb9f3a"
            ],
            [
             0.8888888888888888,
             "#fdca26"
            ],
            [
             1,
             "#f0f921"
            ]
           ],
           "sequentialminus": [
            [
             0,
             "#0d0887"
            ],
            [
             0.1111111111111111,
             "#46039f"
            ],
            [
             0.2222222222222222,
             "#7201a8"
            ],
            [
             0.3333333333333333,
             "#9c179e"
            ],
            [
             0.4444444444444444,
             "#bd3786"
            ],
            [
             0.5555555555555556,
             "#d8576b"
            ],
            [
             0.6666666666666666,
             "#ed7953"
            ],
            [
             0.7777777777777778,
             "#fb9f3a"
            ],
            [
             0.8888888888888888,
             "#fdca26"
            ],
            [
             1,
             "#f0f921"
            ]
           ]
          },
          "colorway": [
           "#636efa",
           "#EF553B",
           "#00cc96",
           "#ab63fa",
           "#FFA15A",
           "#19d3f3",
           "#FF6692",
           "#B6E880",
           "#FF97FF",
           "#FECB52"
          ],
          "font": {
           "color": "#2a3f5f"
          },
          "geo": {
           "bgcolor": "white",
           "lakecolor": "white",
           "landcolor": "#E5ECF6",
           "showlakes": true,
           "showland": true,
           "subunitcolor": "white"
          },
          "hoverlabel": {
           "align": "left"
          },
          "hovermode": "closest",
          "mapbox": {
           "style": "light"
          },
          "paper_bgcolor": "white",
          "plot_bgcolor": "#E5ECF6",
          "polar": {
           "angularaxis": {
            "gridcolor": "white",
            "linecolor": "white",
            "ticks": ""
           },
           "bgcolor": "#E5ECF6",
           "radialaxis": {
            "gridcolor": "white",
            "linecolor": "white",
            "ticks": ""
           }
          },
          "scene": {
           "xaxis": {
            "backgroundcolor": "#E5ECF6",
            "gridcolor": "white",
            "gridwidth": 2,
            "linecolor": "white",
            "showbackground": true,
            "ticks": "",
            "zerolinecolor": "white"
           },
           "yaxis": {
            "backgroundcolor": "#E5ECF6",
            "gridcolor": "white",
            "gridwidth": 2,
            "linecolor": "white",
            "showbackground": true,
            "ticks": "",
            "zerolinecolor": "white"
           },
           "zaxis": {
            "backgroundcolor": "#E5ECF6",
            "gridcolor": "white",
            "gridwidth": 2,
            "linecolor": "white",
            "showbackground": true,
            "ticks": "",
            "zerolinecolor": "white"
           }
          },
          "shapedefaults": {
           "line": {
            "color": "#2a3f5f"
           }
          },
          "ternary": {
           "aaxis": {
            "gridcolor": "white",
            "linecolor": "white",
            "ticks": ""
           },
           "baxis": {
            "gridcolor": "white",
            "linecolor": "white",
            "ticks": ""
           },
           "bgcolor": "#E5ECF6",
           "caxis": {
            "gridcolor": "white",
            "linecolor": "white",
            "ticks": ""
           }
          },
          "title": {
           "x": 0.05
          },
          "xaxis": {
           "automargin": true,
           "gridcolor": "white",
           "linecolor": "white",
           "ticks": "",
           "title": {
            "standoff": 15
           },
           "zerolinecolor": "white",
           "zerolinewidth": 2
          },
          "yaxis": {
           "automargin": true,
           "gridcolor": "white",
           "linecolor": "white",
           "ticks": "",
           "title": {
            "standoff": 15
           },
           "zerolinecolor": "white",
           "zerolinewidth": 2
          }
         }
        },
        "title": {
         "text": "Pretext Analysis"
        },
        "updatemenus": [
         {
          "active": 0,
          "buttons": [
           {
            "args": [
             {
              "visible": [
               true,
               true,
               true,
               false,
               false,
               false
              ]
             },
             {
              "title": "Same Class"
             }
            ],
            "label": "Same Class",
            "method": "update"
           },
           {
            "args": [
             {
              "visible": [
               false,
               false,
               false,
               true,
               true,
               true
              ]
             },
             {
              "title": "Same Domain"
             }
            ],
            "label": "Same Domain",
            "method": "update"
           },
           {
            "args": [
             {
              "visible": [
               true,
               false,
               false,
               true,
               false,
               false
              ]
             },
             {
              "title": "100 labels per class"
             }
            ],
            "label": "100/class",
            "method": "update"
           },
           {
            "args": [
             {
              "visible": [
               false,
               true,
               false,
               false,
               true,
               false
              ]
             },
             {
              "title": "200 labels per class"
             }
            ],
            "label": "200/class",
            "method": "update"
           },
           {
            "args": [
             {
              "visible": [
               false,
               false,
               true,
               false,
               false,
               true
              ]
             },
             {
              "title": "500 labels per class"
             }
            ],
            "label": "500/class",
            "method": "update"
           }
          ],
          "direction": "right",
          "type": "buttons",
          "x": 0.85,
          "y": 1.22
         }
        ],
        "xaxis": {
         "title": {
          "text": "Epochs"
         }
        },
        "yaxis": {
         "title": {
          "text": "Loss"
         }
        }
       }
      },
      "text/html": [
       "<div>                            <div id=\"b4a254f5-d7f6-43cd-8975-db632f7ee90d\" class=\"plotly-graph-div\" style=\"height:525px; width:100%;\"></div>            <script type=\"text/javascript\">                require([\"plotly\"], function(Plotly) {                    window.PLOTLYENV=window.PLOTLYENV || {};                                    if (document.getElementById(\"b4a254f5-d7f6-43cd-8975-db632f7ee90d\")) {                    Plotly.newPlot(                        \"b4a254f5-d7f6-43cd-8975-db632f7ee90d\",                        [{\"line\":{\"color\":\"aqua\",\"width\":2},\"name\":\"Same Domain (100 labels/class)\",\"x\":[0,10,20,30,40,50,60,70,80,90,100,120,140,160,180,200],\"y\":[48.6,69.75,76.15,81.0,85.15,87.1,88.4,90.1,90.55,90.4,91.15,91.1,90.75,91.5,91.8,90.05],\"type\":\"scatter\"},{\"line\":{\"color\":\"darkturquoise\",\"width\":2},\"name\":\"Same Domain (200 labels/class)\",\"x\":[0,10,20,30,40,50,60,70,80,90,100,120,140,150,160,180,200],\"y\":[50.2,74.1,79.2,84.3,87.0,89.15,90.55,92.25,92.5,92.65,92.8,93.0,92.9,92.95,92.9,93.05,92.7],\"type\":\"scatter\"},{\"line\":{\"color\":\"dodgerblue\",\"width\":2},\"name\":\"Same Domain (500 labels/class)\",\"x\":[0,10,20,30,40,50,60,70,80,90,100,120,140,160,180,200],\"y\":[56.25,77.3,82.35,86.75,90.2,92.95,92.9,94.05,94.3,94.45,94.2,94.6,94.7,94.85,94.45,94.6],\"type\":\"scatter\"},{\"line\":{\"color\":\"blanchedalmond\",\"width\":2},\"name\":\"Same Class (100 labels/class)\",\"x\":[0,10,20,30,40,50,60,70,80,90,100,120,140,160,180,200],\"y\":[49.25,66.125,78.5,82.875,86.375,89.875,90.375,90.75,92.125,92.125,92.75,92.625,92.75,93.375,93.0,93.5],\"type\":\"scatter\"},{\"line\":{\"color\":\"sandybrown\",\"width\":2},\"name\":\"Same Class (200 labels/class)\",\"x\":[0,10,20,30,40,50,60,70,80,90,100,120,140,160,180,200],\"y\":[47.05,69.3,78.45,85.0,87.75,89.6,91.3,92.8,93.85,94.1,94.35,94.45,94.6,94.3,93.95,94.3],\"type\":\"scatter\"},{\"line\":{\"color\":\"coral\",\"width\":2},\"name\":\"Same Class (500 labels/class)\",\"x\":[0,10,20,30,40,50,60,70,80,90,100,120,140,160,180,200],\"y\":[53.65,71.25,79.9,85.6,88.45,90.7,92.35,93.9,94.05,94.75,95.05,94.85,94.85,94.7,94.65,94.55],\"type\":\"scatter\"}],                        {\"template\":{\"data\":{\"histogram2dcontour\":[{\"type\":\"histogram2dcontour\",\"colorbar\":{\"outlinewidth\":0,\"ticks\":\"\"},\"colorscale\":[[0.0,\"#0d0887\"],[0.1111111111111111,\"#46039f\"],[0.2222222222222222,\"#7201a8\"],[0.3333333333333333,\"#9c179e\"],[0.4444444444444444,\"#bd3786\"],[0.5555555555555556,\"#d8576b\"],[0.6666666666666666,\"#ed7953\"],[0.7777777777777778,\"#fb9f3a\"],[0.8888888888888888,\"#fdca26\"],[1.0,\"#f0f921\"]]}],\"choropleth\":[{\"type\":\"choropleth\",\"colorbar\":{\"outlinewidth\":0,\"ticks\":\"\"}}],\"histogram2d\":[{\"type\":\"histogram2d\",\"colorbar\":{\"outlinewidth\":0,\"ticks\":\"\"},\"colorscale\":[[0.0,\"#0d0887\"],[0.1111111111111111,\"#46039f\"],[0.2222222222222222,\"#7201a8\"],[0.3333333333333333,\"#9c179e\"],[0.4444444444444444,\"#bd3786\"],[0.5555555555555556,\"#d8576b\"],[0.6666666666666666,\"#ed7953\"],[0.7777777777777778,\"#fb9f3a\"],[0.8888888888888888,\"#fdca26\"],[1.0,\"#f0f921\"]]}],\"heatmap\":[{\"type\":\"heatmap\",\"colorbar\":{\"outlinewidth\":0,\"ticks\":\"\"},\"colorscale\":[[0.0,\"#0d0887\"],[0.1111111111111111,\"#46039f\"],[0.2222222222222222,\"#7201a8\"],[0.3333333333333333,\"#9c179e\"],[0.4444444444444444,\"#bd3786\"],[0.5555555555555556,\"#d8576b\"],[0.6666666666666666,\"#ed7953\"],[0.7777777777777778,\"#fb9f3a\"],[0.8888888888888888,\"#fdca26\"],[1.0,\"#f0f921\"]]}],\"heatmapgl\":[{\"type\":\"heatmapgl\",\"colorbar\":{\"outlinewidth\":0,\"ticks\":\"\"},\"colorscale\":[[0.0,\"#0d0887\"],[0.1111111111111111,\"#46039f\"],[0.2222222222222222,\"#7201a8\"],[0.3333333333333333,\"#9c179e\"],[0.4444444444444444,\"#bd3786\"],[0.5555555555555556,\"#d8576b\"],[0.6666666666666666,\"#ed7953\"],[0.7777777777777778,\"#fb9f3a\"],[0.8888888888888888,\"#fdca26\"],[1.0,\"#f0f921\"]]}],\"contourcarpet\":[{\"type\":\"contourcarpet\",\"colorbar\":{\"outlinewidth\":0,\"ticks\":\"\"}}],\"contour\":[{\"type\":\"contour\",\"colorbar\":{\"outlinewidth\":0,\"ticks\":\"\"},\"colorscale\":[[0.0,\"#0d0887\"],[0.1111111111111111,\"#46039f\"],[0.2222222222222222,\"#7201a8\"],[0.3333333333333333,\"#9c179e\"],[0.4444444444444444,\"#bd3786\"],[0.5555555555555556,\"#d8576b\"],[0.6666666666666666,\"#ed7953\"],[0.7777777777777778,\"#fb9f3a\"],[0.8888888888888888,\"#fdca26\"],[1.0,\"#f0f921\"]]}],\"surface\":[{\"type\":\"surface\",\"colorbar\":{\"outlinewidth\":0,\"ticks\":\"\"},\"colorscale\":[[0.0,\"#0d0887\"],[0.1111111111111111,\"#46039f\"],[0.2222222222222222,\"#7201a8\"],[0.3333333333333333,\"#9c179e\"],[0.4444444444444444,\"#bd3786\"],[0.5555555555555556,\"#d8576b\"],[0.6666666666666666,\"#ed7953\"],[0.7777777777777778,\"#fb9f3a\"],[0.8888888888888888,\"#fdca26\"],[1.0,\"#f0f921\"]]}],\"mesh3d\":[{\"type\":\"mesh3d\",\"colorbar\":{\"outlinewidth\":0,\"ticks\":\"\"}}],\"scatter\":[{\"fillpattern\":{\"fillmode\":\"overlay\",\"size\":10,\"solidity\":0.2},\"type\":\"scatter\"}],\"parcoords\":[{\"type\":\"parcoords\",\"line\":{\"colorbar\":{\"outlinewidth\":0,\"ticks\":\"\"}}}],\"scatterpolargl\":[{\"type\":\"scatterpolargl\",\"marker\":{\"colorbar\":{\"outlinewidth\":0,\"ticks\":\"\"}}}],\"bar\":[{\"error_x\":{\"color\":\"#2a3f5f\"},\"error_y\":{\"color\":\"#2a3f5f\"},\"marker\":{\"line\":{\"color\":\"#E5ECF6\",\"width\":0.5},\"pattern\":{\"fillmode\":\"overlay\",\"size\":10,\"solidity\":0.2}},\"type\":\"bar\"}],\"scattergeo\":[{\"type\":\"scattergeo\",\"marker\":{\"colorbar\":{\"outlinewidth\":0,\"ticks\":\"\"}}}],\"scatterpolar\":[{\"type\":\"scatterpolar\",\"marker\":{\"colorbar\":{\"outlinewidth\":0,\"ticks\":\"\"}}}],\"histogram\":[{\"marker\":{\"pattern\":{\"fillmode\":\"overlay\",\"size\":10,\"solidity\":0.2}},\"type\":\"histogram\"}],\"scattergl\":[{\"type\":\"scattergl\",\"marker\":{\"colorbar\":{\"outlinewidth\":0,\"ticks\":\"\"}}}],\"scatter3d\":[{\"type\":\"scatter3d\",\"line\":{\"colorbar\":{\"outlinewidth\":0,\"ticks\":\"\"}},\"marker\":{\"colorbar\":{\"outlinewidth\":0,\"ticks\":\"\"}}}],\"scattermapbox\":[{\"type\":\"scattermapbox\",\"marker\":{\"colorbar\":{\"outlinewidth\":0,\"ticks\":\"\"}}}],\"scatterternary\":[{\"type\":\"scatterternary\",\"marker\":{\"colorbar\":{\"outlinewidth\":0,\"ticks\":\"\"}}}],\"scattercarpet\":[{\"type\":\"scattercarpet\",\"marker\":{\"colorbar\":{\"outlinewidth\":0,\"ticks\":\"\"}}}],\"carpet\":[{\"aaxis\":{\"endlinecolor\":\"#2a3f5f\",\"gridcolor\":\"white\",\"linecolor\":\"white\",\"minorgridcolor\":\"white\",\"startlinecolor\":\"#2a3f5f\"},\"baxis\":{\"endlinecolor\":\"#2a3f5f\",\"gridcolor\":\"white\",\"linecolor\":\"white\",\"minorgridcolor\":\"white\",\"startlinecolor\":\"#2a3f5f\"},\"type\":\"carpet\"}],\"table\":[{\"cells\":{\"fill\":{\"color\":\"#EBF0F8\"},\"line\":{\"color\":\"white\"}},\"header\":{\"fill\":{\"color\":\"#C8D4E3\"},\"line\":{\"color\":\"white\"}},\"type\":\"table\"}],\"barpolar\":[{\"marker\":{\"line\":{\"color\":\"#E5ECF6\",\"width\":0.5},\"pattern\":{\"fillmode\":\"overlay\",\"size\":10,\"solidity\":0.2}},\"type\":\"barpolar\"}],\"pie\":[{\"automargin\":true,\"type\":\"pie\"}]},\"layout\":{\"autotypenumbers\":\"strict\",\"colorway\":[\"#636efa\",\"#EF553B\",\"#00cc96\",\"#ab63fa\",\"#FFA15A\",\"#19d3f3\",\"#FF6692\",\"#B6E880\",\"#FF97FF\",\"#FECB52\"],\"font\":{\"color\":\"#2a3f5f\"},\"hovermode\":\"closest\",\"hoverlabel\":{\"align\":\"left\"},\"paper_bgcolor\":\"white\",\"plot_bgcolor\":\"#E5ECF6\",\"polar\":{\"bgcolor\":\"#E5ECF6\",\"angularaxis\":{\"gridcolor\":\"white\",\"linecolor\":\"white\",\"ticks\":\"\"},\"radialaxis\":{\"gridcolor\":\"white\",\"linecolor\":\"white\",\"ticks\":\"\"}},\"ternary\":{\"bgcolor\":\"#E5ECF6\",\"aaxis\":{\"gridcolor\":\"white\",\"linecolor\":\"white\",\"ticks\":\"\"},\"baxis\":{\"gridcolor\":\"white\",\"linecolor\":\"white\",\"ticks\":\"\"},\"caxis\":{\"gridcolor\":\"white\",\"linecolor\":\"white\",\"ticks\":\"\"}},\"coloraxis\":{\"colorbar\":{\"outlinewidth\":0,\"ticks\":\"\"}},\"colorscale\":{\"sequential\":[[0.0,\"#0d0887\"],[0.1111111111111111,\"#46039f\"],[0.2222222222222222,\"#7201a8\"],[0.3333333333333333,\"#9c179e\"],[0.4444444444444444,\"#bd3786\"],[0.5555555555555556,\"#d8576b\"],[0.6666666666666666,\"#ed7953\"],[0.7777777777777778,\"#fb9f3a\"],[0.8888888888888888,\"#fdca26\"],[1.0,\"#f0f921\"]],\"sequentialminus\":[[0.0,\"#0d0887\"],[0.1111111111111111,\"#46039f\"],[0.2222222222222222,\"#7201a8\"],[0.3333333333333333,\"#9c179e\"],[0.4444444444444444,\"#bd3786\"],[0.5555555555555556,\"#d8576b\"],[0.6666666666666666,\"#ed7953\"],[0.7777777777777778,\"#fb9f3a\"],[0.8888888888888888,\"#fdca26\"],[1.0,\"#f0f921\"]],\"diverging\":[[0,\"#8e0152\"],[0.1,\"#c51b7d\"],[0.2,\"#de77ae\"],[0.3,\"#f1b6da\"],[0.4,\"#fde0ef\"],[0.5,\"#f7f7f7\"],[0.6,\"#e6f5d0\"],[0.7,\"#b8e186\"],[0.8,\"#7fbc41\"],[0.9,\"#4d9221\"],[1,\"#276419\"]]},\"xaxis\":{\"gridcolor\":\"white\",\"linecolor\":\"white\",\"ticks\":\"\",\"title\":{\"standoff\":15},\"zerolinecolor\":\"white\",\"automargin\":true,\"zerolinewidth\":2},\"yaxis\":{\"gridcolor\":\"white\",\"linecolor\":\"white\",\"ticks\":\"\",\"title\":{\"standoff\":15},\"zerolinecolor\":\"white\",\"automargin\":true,\"zerolinewidth\":2},\"scene\":{\"xaxis\":{\"backgroundcolor\":\"#E5ECF6\",\"gridcolor\":\"white\",\"linecolor\":\"white\",\"showbackground\":true,\"ticks\":\"\",\"zerolinecolor\":\"white\",\"gridwidth\":2},\"yaxis\":{\"backgroundcolor\":\"#E5ECF6\",\"gridcolor\":\"white\",\"linecolor\":\"white\",\"showbackground\":true,\"ticks\":\"\",\"zerolinecolor\":\"white\",\"gridwidth\":2},\"zaxis\":{\"backgroundcolor\":\"#E5ECF6\",\"gridcolor\":\"white\",\"linecolor\":\"white\",\"showbackground\":true,\"ticks\":\"\",\"zerolinecolor\":\"white\",\"gridwidth\":2}},\"shapedefaults\":{\"line\":{\"color\":\"#2a3f5f\"}},\"annotationdefaults\":{\"arrowcolor\":\"#2a3f5f\",\"arrowhead\":0,\"arrowwidth\":1},\"geo\":{\"bgcolor\":\"white\",\"landcolor\":\"#E5ECF6\",\"subunitcolor\":\"white\",\"showland\":true,\"showlakes\":true,\"lakecolor\":\"white\"},\"title\":{\"x\":0.05},\"mapbox\":{\"style\":\"light\"}}},\"title\":{\"text\":\"Pretext Analysis\"},\"xaxis\":{\"title\":{\"text\":\"Epochs\"}},\"yaxis\":{\"title\":{\"text\":\"Loss\"}},\"updatemenus\":[{\"active\":0,\"buttons\":[{\"args\":[{\"visible\":[true,true,true,false,false,false]},{\"title\":\"Same Class\"}],\"label\":\"Same Class\",\"method\":\"update\"},{\"args\":[{\"visible\":[false,false,false,true,true,true]},{\"title\":\"Same Domain\"}],\"label\":\"Same Domain\",\"method\":\"update\"},{\"args\":[{\"visible\":[true,false,false,true,false,false]},{\"title\":\"100 labels per class\"}],\"label\":\"100/class\",\"method\":\"update\"},{\"args\":[{\"visible\":[false,true,false,false,true,false]},{\"title\":\"200 labels per class\"}],\"label\":\"200/class\",\"method\":\"update\"},{\"args\":[{\"visible\":[false,false,true,false,false,true]},{\"title\":\"500 labels per class\"}],\"label\":\"500/class\",\"method\":\"update\"}],\"direction\":\"right\",\"type\":\"buttons\",\"x\":0.85,\"y\":1.22}],\"font\":{\"color\":\"black\"},\"barmode\":\"group\",\"legend\":{\"title\":{\"text\":\"Experiment Type\"}}},                        {\"responsive\": true}                    ).then(function(){\n",
       "                            \n",
       "var gd = document.getElementById('b4a254f5-d7f6-43cd-8975-db632f7ee90d');\n",
       "var x = new MutationObserver(function (mutations, observer) {{\n",
       "        var display = window.getComputedStyle(gd).display;\n",
       "        if (!display || display === 'none') {{\n",
       "            console.log([gd, 'removed!']);\n",
       "            Plotly.purge(gd);\n",
       "            observer.disconnect();\n",
       "        }}\n",
       "}});\n",
       "\n",
       "// Listen for the removal of the full notebook cells\n",
       "var notebookContainer = gd.closest('#notebook-container');\n",
       "if (notebookContainer) {{\n",
       "    x.observe(notebookContainer, {childList: true});\n",
       "}}\n",
       "\n",
       "// Listen for the clearing of the current output cell\n",
       "var outputEl = gd.closest('.output');\n",
       "if (outputEl) {{\n",
       "    x.observe(outputEl, {childList: true});\n",
       "}}\n",
       "\n",
       "                        })                };                });            </script>        </div>"
      ]
     },
     "metadata": {},
     "output_type": "display_data"
    }
   ],
   "source": [
    "# DINO_class_pretext_log, DINO_domain_pretext_log\n",
    "\n",
    "layout = Layout(\n",
    "    paper_bgcolor='rgba(0,0,0,0)',\n",
    "#     plot_bgcolor='rgba(0,0,0,0)'\n",
    ")\n",
    "\n",
    "fig = go.Figure()\n",
    "\n",
    "# Add Traces\n",
    "fig.add_trace(\n",
    "    go.Scatter(x=tuple(ssl_max_acc_store[100]['vitbase'].keys()),\n",
    "               y=tuple(ssl_max_acc_store[100]['vitbase'].values()),\n",
    "               name='Same Domain (100 labels/class)',\n",
    "               line=dict(color='aqua', width=2)))\n",
    "\n",
    "# Add Traces\n",
    "fig.add_trace(\n",
    "    go.Scatter(x=tuple(ssl_max_acc_store[200]['vitbase'].keys()),\n",
    "               y=tuple(ssl_max_acc_store[200]['vitbase'].values()),\n",
    "               name='Same Domain (200 labels/class)',\n",
    "               line=dict(color='darkturquoise', width=2)))\n",
    "\n",
    "# Add Traces\n",
    "fig.add_trace(\n",
    "    go.Scatter(x=tuple(ssl_max_acc_store[500]['vitbase'].keys()),\n",
    "               y=tuple(ssl_max_acc_store[500]['vitbase'].values()),\n",
    "               name='Same Domain (500 labels/class)',\n",
    "               line=dict(color='dodgerblue', width=2)))\n",
    "\n",
    "# Add Traces\n",
    "fig.add_trace(\n",
    "    go.Scatter(x=tuple(se_max_acc_store[100]['vitbase'].keys()),\n",
    "               y=tuple(se_max_acc_store[100]['vitbase'].values()),\n",
    "               name='Same Class (100 labels/class)',\n",
    "               line=dict(color='blanchedalmond', width=2)))\n",
    "\n",
    "\n",
    "# Add Traces\n",
    "fig.add_trace(\n",
    "    go.Scatter(x=tuple(se_max_acc_store[200]['vitbase'].keys()),\n",
    "               y=tuple(se_max_acc_store[200]['vitbase'].values()),\n",
    "               name='Same Class (200 labels/class)',\n",
    "               line=dict(color='sandybrown', width=2)))\n",
    "\n",
    "# Add Traces\n",
    "fig.add_trace(\n",
    "    go.Scatter(x=tuple(se_max_acc_store[500]['vitbase'].keys()),\n",
    "               y=tuple(se_max_acc_store[500]['vitbase'].values()),\n",
    "               name='Same Class (500 labels/class)',\n",
    "               line=dict(color='coral', width=2)))\n",
    "\n",
    "# Edit the layout\n",
    "fig.update_layout(title='Downstream Evaluation',\n",
    "                   xaxis_title='Pretext Epochs',\n",
    "                   yaxis_title='Top1 Acc')\n",
    "\n",
    "#Add Buttons\n",
    "fig.update_layout(\n",
    "    updatemenus=[\n",
    "        dict(\n",
    "            type=\"buttons\",\n",
    "            direction=\"right\",\n",
    "            active=0,\n",
    "            x=0.85,\n",
    "            y=1.22,\n",
    "            buttons=list([\n",
    "                dict(label=\"Same Class\",\n",
    "                     method=\"update\",\n",
    "                     args=[{\"visible\": [True, True, True, False, False, False]},\n",
    "                           {\"title\": \"Same Class\",}\n",
    "                        ]\n",
    "                    ),\n",
    "                dict(label=\"Same Domain\",\n",
    "                     method=\"update\",\n",
    "                     args=[{\"visible\": [False, False, False, True, True, True]},\n",
    "                           {\"title\": \"Same Domain\",}\n",
    "                        ]\n",
    "                    ),\n",
    "                dict(label=\"100/class\",\n",
    "                     method=\"update\",\n",
    "                     args=[{\"visible\": [True, False, False, True, False, False]},\n",
    "                           {\"title\": \"100 labels per class\",}\n",
    "                        ]\n",
    "                    ),\n",
    "                dict(label=\"200/class\",\n",
    "                     method=\"update\",\n",
    "                     args=[{\"visible\": [False, True, False, False, True, False]},\n",
    "                           {\"title\": \"200 labels per class\",}\n",
    "                        ]\n",
    "                    ),\n",
    "                dict(label=\"500/class\",\n",
    "                     method=\"update\",\n",
    "                     args=[{\"visible\": [False, False, True, False, False, True]},\n",
    "                           {\"title\": \"500 labels per class\",}\n",
    "                        ]\n",
    "                    ),\n",
    "                \n",
    "            ]),\n",
    "        )\n",
    "    ])\n",
    "fig.update_layout(\n",
    "    barmode='group',\n",
    "    title=\"Pretext Analysis\",\n",
    "    xaxis_title=\"Epochs\",\n",
    "    yaxis_title=\"Loss\",\n",
    "    legend_title=\"Experiment Type\",\n",
    "    font=dict(\n",
    "        color=\"black\",\n",
    "    )\n",
    ")\n",
    "\n",
    "fig.show()\n"
   ]
  },
  {
   "cell_type": "code",
   "execution_count": 50,
   "metadata": {},
   "outputs": [
    {
     "data": {
      "application/vnd.plotly.v1+json": {
       "config": {
        "plotlyServerURL": "https://plot.ly"
       },
       "data": [
        {
         "cells": {
          "align": "center",
          "fill": {
           "color": [
            [
             "aliceblue",
             "antiquewhite",
             "aqua",
             "aquamarine",
             "azure",
             "beige",
             "bisque",
             "black",
             "blanchedalmond",
             "blue",
             "blueviolet",
             "brown",
             "burlywood",
             "cadetblue",
             "chartreuse",
             "chocolate",
             "coral",
             "cornflowerblue",
             "cornsilk",
             "crimson",
             "cyan",
             "darkblue",
             "darkcyan",
             "darkgoldenrod",
             "darkgray",
             "darkgrey",
             "darkgreen",
             "darkkhaki",
             "darkmagenta",
             "darkolivegreen",
             "darkorange",
             "darkorchid",
             "darkred",
             "darksalmon",
             "darkseagreen",
             "darkslateblue",
             "darkslategray",
             "darkslategrey",
             "darkturquoise",
             "darkviolet",
             "deeppink",
             "deepskyblue",
             "dimgray",
             "dimgrey",
             "dodgerblue",
             "firebrick",
             "floralwhite",
             "forestgreen",
             "fuchsia",
             "gainsboro",
             "ghostwhite",
             "gold",
             "goldenrod",
             "gray",
             "grey",
             "green",
             "greenyellow",
             "honeydew",
             "hotpink",
             "indianred",
             "indigo",
             "ivory",
             "khaki",
             "lavender",
             "lavenderblush",
             "lawngreen",
             "lemonchiffon",
             "lightblue",
             "lightcoral",
             "lightcyan",
             "lightgoldenrodyellow",
             "lightgray",
             "lightgrey",
             "lightgreen",
             "lightpink",
             "lightsalmon",
             "lightseagreen",
             "lightskyblue",
             "lightslategray",
             "lightslategrey",
             "lightsteelblue",
             "lightyellow",
             "lime",
             "limegreen",
             "linen",
             "magenta",
             "maroon",
             "mediumaquamarine",
             "mediumblue",
             "mediumorchid",
             "mediumpurple",
             "mediumseagreen",
             "mediumslateblue",
             "mediumspringgreen",
             "mediumturquoise",
             "mediumvioletred",
             "midnightblue",
             "mintcream",
             "mistyrose",
             "moccasin",
             "navajowhite",
             "navy",
             "oldlace",
             "olive",
             "olivedrab",
             "orange",
             "orangered",
             "orchid",
             "palegoldenrod",
             "palegreen",
             "paleturquoise",
             "palevioletred",
             "papayawhip",
             "peachpuff",
             "peru",
             "pink",
             "plum",
             "powderblue",
             "purple",
             "red",
             "rosybrown",
             "royalblue",
             "saddlebrown",
             "salmon",
             "sandybrown",
             "seagreen",
             "seashell",
             "sienna",
             "silver",
             "skyblue",
             "slateblue",
             "slategray",
             "slategrey",
             "snow",
             "springgreen",
             "steelblue",
             "tan",
             "teal",
             "thistle",
             "tomato",
             "turquoise",
             "violet",
             "wheat",
             "white",
             "whitesmoke",
             "yellow",
             "yellowgreen"
            ]
           ]
          },
          "font": {
           "color": "black",
           "size": 11
          },
          "line": {
           "color": [
            [
             "aliceblue",
             "antiquewhite",
             "aqua",
             "aquamarine",
             "azure",
             "beige",
             "bisque",
             "black",
             "blanchedalmond",
             "blue",
             "blueviolet",
             "brown",
             "burlywood",
             "cadetblue",
             "chartreuse",
             "chocolate",
             "coral",
             "cornflowerblue",
             "cornsilk",
             "crimson",
             "cyan",
             "darkblue",
             "darkcyan",
             "darkgoldenrod",
             "darkgray",
             "darkgrey",
             "darkgreen",
             "darkkhaki",
             "darkmagenta",
             "darkolivegreen",
             "darkorange",
             "darkorchid",
             "darkred",
             "darksalmon",
             "darkseagreen",
             "darkslateblue",
             "darkslategray",
             "darkslategrey",
             "darkturquoise",
             "darkviolet",
             "deeppink",
             "deepskyblue",
             "dimgray",
             "dimgrey",
             "dodgerblue",
             "firebrick",
             "floralwhite",
             "forestgreen",
             "fuchsia",
             "gainsboro",
             "ghostwhite",
             "gold",
             "goldenrod",
             "gray",
             "grey",
             "green",
             "greenyellow",
             "honeydew",
             "hotpink",
             "indianred",
             "indigo",
             "ivory",
             "khaki",
             "lavender",
             "lavenderblush",
             "lawngreen",
             "lemonchiffon",
             "lightblue",
             "lightcoral",
             "lightcyan",
             "lightgoldenrodyellow",
             "lightgray",
             "lightgrey",
             "lightgreen",
             "lightpink",
             "lightsalmon",
             "lightseagreen",
             "lightskyblue",
             "lightslategray",
             "lightslategrey",
             "lightsteelblue",
             "lightyellow",
             "lime",
             "limegreen",
             "linen",
             "magenta",
             "maroon",
             "mediumaquamarine",
             "mediumblue",
             "mediumorchid",
             "mediumpurple",
             "mediumseagreen",
             "mediumslateblue",
             "mediumspringgreen",
             "mediumturquoise",
             "mediumvioletred",
             "midnightblue",
             "mintcream",
             "mistyrose",
             "moccasin",
             "navajowhite",
             "navy",
             "oldlace",
             "olive",
             "olivedrab",
             "orange",
             "orangered",
             "orchid",
             "palegoldenrod",
             "palegreen",
             "paleturquoise",
             "palevioletred",
             "papayawhip",
             "peachpuff",
             "peru",
             "pink",
             "plum",
             "powderblue",
             "purple",
             "red",
             "rosybrown",
             "royalblue",
             "saddlebrown",
             "salmon",
             "sandybrown",
             "seagreen",
             "seashell",
             "sienna",
             "silver",
             "skyblue",
             "slateblue",
             "slategray",
             "slategrey",
             "snow",
             "springgreen",
             "steelblue",
             "tan",
             "teal",
             "thistle",
             "tomato",
             "turquoise",
             "violet",
             "wheat",
             "white",
             "whitesmoke",
             "yellow",
             "yellowgreen"
            ]
           ]
          },
          "values": [
           [
            "aliceblue",
            "antiquewhite",
            "aqua",
            "aquamarine",
            "azure",
            "beige",
            "bisque",
            "black",
            "blanchedalmond",
            "blue",
            "blueviolet",
            "brown",
            "burlywood",
            "cadetblue",
            "chartreuse",
            "chocolate",
            "coral",
            "cornflowerblue",
            "cornsilk",
            "crimson",
            "cyan",
            "darkblue",
            "darkcyan",
            "darkgoldenrod",
            "darkgray",
            "darkgrey",
            "darkgreen",
            "darkkhaki",
            "darkmagenta",
            "darkolivegreen",
            "darkorange",
            "darkorchid",
            "darkred",
            "darksalmon",
            "darkseagreen",
            "darkslateblue",
            "darkslategray",
            "darkslategrey",
            "darkturquoise",
            "darkviolet",
            "deeppink",
            "deepskyblue",
            "dimgray",
            "dimgrey",
            "dodgerblue",
            "firebrick",
            "floralwhite",
            "forestgreen",
            "fuchsia",
            "gainsboro",
            "ghostwhite",
            "gold",
            "goldenrod",
            "gray",
            "grey",
            "green",
            "greenyellow",
            "honeydew",
            "hotpink",
            "indianred",
            "indigo",
            "ivory",
            "khaki",
            "lavender",
            "lavenderblush",
            "lawngreen",
            "lemonchiffon",
            "lightblue",
            "lightcoral",
            "lightcyan",
            "lightgoldenrodyellow",
            "lightgray",
            "lightgrey",
            "lightgreen",
            "lightpink",
            "lightsalmon",
            "lightseagreen",
            "lightskyblue",
            "lightslategray",
            "lightslategrey",
            "lightsteelblue",
            "lightyellow",
            "lime",
            "limegreen",
            "linen",
            "magenta",
            "maroon",
            "mediumaquamarine",
            "mediumblue",
            "mediumorchid",
            "mediumpurple",
            "mediumseagreen",
            "mediumslateblue",
            "mediumspringgreen",
            "mediumturquoise",
            "mediumvioletred",
            "midnightblue",
            "mintcream",
            "mistyrose",
            "moccasin",
            "navajowhite",
            "navy",
            "oldlace",
            "olive",
            "olivedrab",
            "orange",
            "orangered",
            "orchid",
            "palegoldenrod",
            "palegreen",
            "paleturquoise",
            "palevioletred",
            "papayawhip",
            "peachpuff",
            "peru",
            "pink",
            "plum",
            "powderblue",
            "purple",
            "red",
            "rosybrown",
            "royalblue",
            "saddlebrown",
            "salmon",
            "sandybrown",
            "seagreen",
            "seashell",
            "sienna",
            "silver",
            "skyblue",
            "slateblue",
            "slategray",
            "slategrey",
            "snow",
            "springgreen",
            "steelblue",
            "tan",
            "teal",
            "thistle",
            "tomato",
            "turquoise",
            "violet",
            "wheat",
            "white",
            "whitesmoke",
            "yellow",
            "yellowgreen"
           ]
          ]
         },
         "header": {
          "align": "center",
          "fill": {
           "color": "white"
          },
          "font": {
           "color": "black",
           "size": 14
          },
          "line": {
           "color": "black"
          },
          "values": [
           "Plotly Named CSS colours"
          ]
         },
         "type": "table"
        }
       ],
       "layout": {
        "template": {
         "data": {
          "bar": [
           {
            "error_x": {
             "color": "#2a3f5f"
            },
            "error_y": {
             "color": "#2a3f5f"
            },
            "marker": {
             "line": {
              "color": "#E5ECF6",
              "width": 0.5
             },
             "pattern": {
              "fillmode": "overlay",
              "size": 10,
              "solidity": 0.2
             }
            },
            "type": "bar"
           }
          ],
          "barpolar": [
           {
            "marker": {
             "line": {
              "color": "#E5ECF6",
              "width": 0.5
             },
             "pattern": {
              "fillmode": "overlay",
              "size": 10,
              "solidity": 0.2
             }
            },
            "type": "barpolar"
           }
          ],
          "carpet": [
           {
            "aaxis": {
             "endlinecolor": "#2a3f5f",
             "gridcolor": "white",
             "linecolor": "white",
             "minorgridcolor": "white",
             "startlinecolor": "#2a3f5f"
            },
            "baxis": {
             "endlinecolor": "#2a3f5f",
             "gridcolor": "white",
             "linecolor": "white",
             "minorgridcolor": "white",
             "startlinecolor": "#2a3f5f"
            },
            "type": "carpet"
           }
          ],
          "choropleth": [
           {
            "colorbar": {
             "outlinewidth": 0,
             "ticks": ""
            },
            "type": "choropleth"
           }
          ],
          "contour": [
           {
            "colorbar": {
             "outlinewidth": 0,
             "ticks": ""
            },
            "colorscale": [
             [
              0,
              "#0d0887"
             ],
             [
              0.1111111111111111,
              "#46039f"
             ],
             [
              0.2222222222222222,
              "#7201a8"
             ],
             [
              0.3333333333333333,
              "#9c179e"
             ],
             [
              0.4444444444444444,
              "#bd3786"
             ],
             [
              0.5555555555555556,
              "#d8576b"
             ],
             [
              0.6666666666666666,
              "#ed7953"
             ],
             [
              0.7777777777777778,
              "#fb9f3a"
             ],
             [
              0.8888888888888888,
              "#fdca26"
             ],
             [
              1,
              "#f0f921"
             ]
            ],
            "type": "contour"
           }
          ],
          "contourcarpet": [
           {
            "colorbar": {
             "outlinewidth": 0,
             "ticks": ""
            },
            "type": "contourcarpet"
           }
          ],
          "heatmap": [
           {
            "colorbar": {
             "outlinewidth": 0,
             "ticks": ""
            },
            "colorscale": [
             [
              0,
              "#0d0887"
             ],
             [
              0.1111111111111111,
              "#46039f"
             ],
             [
              0.2222222222222222,
              "#7201a8"
             ],
             [
              0.3333333333333333,
              "#9c179e"
             ],
             [
              0.4444444444444444,
              "#bd3786"
             ],
             [
              0.5555555555555556,
              "#d8576b"
             ],
             [
              0.6666666666666666,
              "#ed7953"
             ],
             [
              0.7777777777777778,
              "#fb9f3a"
             ],
             [
              0.8888888888888888,
              "#fdca26"
             ],
             [
              1,
              "#f0f921"
             ]
            ],
            "type": "heatmap"
           }
          ],
          "heatmapgl": [
           {
            "colorbar": {
             "outlinewidth": 0,
             "ticks": ""
            },
            "colorscale": [
             [
              0,
              "#0d0887"
             ],
             [
              0.1111111111111111,
              "#46039f"
             ],
             [
              0.2222222222222222,
              "#7201a8"
             ],
             [
              0.3333333333333333,
              "#9c179e"
             ],
             [
              0.4444444444444444,
              "#bd3786"
             ],
             [
              0.5555555555555556,
              "#d8576b"
             ],
             [
              0.6666666666666666,
              "#ed7953"
             ],
             [
              0.7777777777777778,
              "#fb9f3a"
             ],
             [
              0.8888888888888888,
              "#fdca26"
             ],
             [
              1,
              "#f0f921"
             ]
            ],
            "type": "heatmapgl"
           }
          ],
          "histogram": [
           {
            "marker": {
             "pattern": {
              "fillmode": "overlay",
              "size": 10,
              "solidity": 0.2
             }
            },
            "type": "histogram"
           }
          ],
          "histogram2d": [
           {
            "colorbar": {
             "outlinewidth": 0,
             "ticks": ""
            },
            "colorscale": [
             [
              0,
              "#0d0887"
             ],
             [
              0.1111111111111111,
              "#46039f"
             ],
             [
              0.2222222222222222,
              "#7201a8"
             ],
             [
              0.3333333333333333,
              "#9c179e"
             ],
             [
              0.4444444444444444,
              "#bd3786"
             ],
             [
              0.5555555555555556,
              "#d8576b"
             ],
             [
              0.6666666666666666,
              "#ed7953"
             ],
             [
              0.7777777777777778,
              "#fb9f3a"
             ],
             [
              0.8888888888888888,
              "#fdca26"
             ],
             [
              1,
              "#f0f921"
             ]
            ],
            "type": "histogram2d"
           }
          ],
          "histogram2dcontour": [
           {
            "colorbar": {
             "outlinewidth": 0,
             "ticks": ""
            },
            "colorscale": [
             [
              0,
              "#0d0887"
             ],
             [
              0.1111111111111111,
              "#46039f"
             ],
             [
              0.2222222222222222,
              "#7201a8"
             ],
             [
              0.3333333333333333,
              "#9c179e"
             ],
             [
              0.4444444444444444,
              "#bd3786"
             ],
             [
              0.5555555555555556,
              "#d8576b"
             ],
             [
              0.6666666666666666,
              "#ed7953"
             ],
             [
              0.7777777777777778,
              "#fb9f3a"
             ],
             [
              0.8888888888888888,
              "#fdca26"
             ],
             [
              1,
              "#f0f921"
             ]
            ],
            "type": "histogram2dcontour"
           }
          ],
          "mesh3d": [
           {
            "colorbar": {
             "outlinewidth": 0,
             "ticks": ""
            },
            "type": "mesh3d"
           }
          ],
          "parcoords": [
           {
            "line": {
             "colorbar": {
              "outlinewidth": 0,
              "ticks": ""
             }
            },
            "type": "parcoords"
           }
          ],
          "pie": [
           {
            "automargin": true,
            "type": "pie"
           }
          ],
          "scatter": [
           {
            "fillpattern": {
             "fillmode": "overlay",
             "size": 10,
             "solidity": 0.2
            },
            "type": "scatter"
           }
          ],
          "scatter3d": [
           {
            "line": {
             "colorbar": {
              "outlinewidth": 0,
              "ticks": ""
             }
            },
            "marker": {
             "colorbar": {
              "outlinewidth": 0,
              "ticks": ""
             }
            },
            "type": "scatter3d"
           }
          ],
          "scattercarpet": [
           {
            "marker": {
             "colorbar": {
              "outlinewidth": 0,
              "ticks": ""
             }
            },
            "type": "scattercarpet"
           }
          ],
          "scattergeo": [
           {
            "marker": {
             "colorbar": {
              "outlinewidth": 0,
              "ticks": ""
             }
            },
            "type": "scattergeo"
           }
          ],
          "scattergl": [
           {
            "marker": {
             "colorbar": {
              "outlinewidth": 0,
              "ticks": ""
             }
            },
            "type": "scattergl"
           }
          ],
          "scattermapbox": [
           {
            "marker": {
             "colorbar": {
              "outlinewidth": 0,
              "ticks": ""
             }
            },
            "type": "scattermapbox"
           }
          ],
          "scatterpolar": [
           {
            "marker": {
             "colorbar": {
              "outlinewidth": 0,
              "ticks": ""
             }
            },
            "type": "scatterpolar"
           }
          ],
          "scatterpolargl": [
           {
            "marker": {
             "colorbar": {
              "outlinewidth": 0,
              "ticks": ""
             }
            },
            "type": "scatterpolargl"
           }
          ],
          "scatterternary": [
           {
            "marker": {
             "colorbar": {
              "outlinewidth": 0,
              "ticks": ""
             }
            },
            "type": "scatterternary"
           }
          ],
          "surface": [
           {
            "colorbar": {
             "outlinewidth": 0,
             "ticks": ""
            },
            "colorscale": [
             [
              0,
              "#0d0887"
             ],
             [
              0.1111111111111111,
              "#46039f"
             ],
             [
              0.2222222222222222,
              "#7201a8"
             ],
             [
              0.3333333333333333,
              "#9c179e"
             ],
             [
              0.4444444444444444,
              "#bd3786"
             ],
             [
              0.5555555555555556,
              "#d8576b"
             ],
             [
              0.6666666666666666,
              "#ed7953"
             ],
             [
              0.7777777777777778,
              "#fb9f3a"
             ],
             [
              0.8888888888888888,
              "#fdca26"
             ],
             [
              1,
              "#f0f921"
             ]
            ],
            "type": "surface"
           }
          ],
          "table": [
           {
            "cells": {
             "fill": {
              "color": "#EBF0F8"
             },
             "line": {
              "color": "white"
             }
            },
            "header": {
             "fill": {
              "color": "#C8D4E3"
             },
             "line": {
              "color": "white"
             }
            },
            "type": "table"
           }
          ]
         },
         "layout": {
          "annotationdefaults": {
           "arrowcolor": "#2a3f5f",
           "arrowhead": 0,
           "arrowwidth": 1
          },
          "autotypenumbers": "strict",
          "coloraxis": {
           "colorbar": {
            "outlinewidth": 0,
            "ticks": ""
           }
          },
          "colorscale": {
           "diverging": [
            [
             0,
             "#8e0152"
            ],
            [
             0.1,
             "#c51b7d"
            ],
            [
             0.2,
             "#de77ae"
            ],
            [
             0.3,
             "#f1b6da"
            ],
            [
             0.4,
             "#fde0ef"
            ],
            [
             0.5,
             "#f7f7f7"
            ],
            [
             0.6,
             "#e6f5d0"
            ],
            [
             0.7,
             "#b8e186"
            ],
            [
             0.8,
             "#7fbc41"
            ],
            [
             0.9,
             "#4d9221"
            ],
            [
             1,
             "#276419"
            ]
           ],
           "sequential": [
            [
             0,
             "#0d0887"
            ],
            [
             0.1111111111111111,
             "#46039f"
            ],
            [
             0.2222222222222222,
             "#7201a8"
            ],
            [
             0.3333333333333333,
             "#9c179e"
            ],
            [
             0.4444444444444444,
             "#bd3786"
            ],
            [
             0.5555555555555556,
             "#d8576b"
            ],
            [
             0.6666666666666666,
             "#ed7953"
            ],
            [
             0.7777777777777778,
             "#fb9f3a"
            ],
            [
             0.8888888888888888,
             "#fdca26"
            ],
            [
             1,
             "#f0f921"
            ]
           ],
           "sequentialminus": [
            [
             0,
             "#0d0887"
            ],
            [
             0.1111111111111111,
             "#46039f"
            ],
            [
             0.2222222222222222,
             "#7201a8"
            ],
            [
             0.3333333333333333,
             "#9c179e"
            ],
            [
             0.4444444444444444,
             "#bd3786"
            ],
            [
             0.5555555555555556,
             "#d8576b"
            ],
            [
             0.6666666666666666,
             "#ed7953"
            ],
            [
             0.7777777777777778,
             "#fb9f3a"
            ],
            [
             0.8888888888888888,
             "#fdca26"
            ],
            [
             1,
             "#f0f921"
            ]
           ]
          },
          "colorway": [
           "#636efa",
           "#EF553B",
           "#00cc96",
           "#ab63fa",
           "#FFA15A",
           "#19d3f3",
           "#FF6692",
           "#B6E880",
           "#FF97FF",
           "#FECB52"
          ],
          "font": {
           "color": "#2a3f5f"
          },
          "geo": {
           "bgcolor": "white",
           "lakecolor": "white",
           "landcolor": "#E5ECF6",
           "showlakes": true,
           "showland": true,
           "subunitcolor": "white"
          },
          "hoverlabel": {
           "align": "left"
          },
          "hovermode": "closest",
          "mapbox": {
           "style": "light"
          },
          "paper_bgcolor": "white",
          "plot_bgcolor": "#E5ECF6",
          "polar": {
           "angularaxis": {
            "gridcolor": "white",
            "linecolor": "white",
            "ticks": ""
           },
           "bgcolor": "#E5ECF6",
           "radialaxis": {
            "gridcolor": "white",
            "linecolor": "white",
            "ticks": ""
           }
          },
          "scene": {
           "xaxis": {
            "backgroundcolor": "#E5ECF6",
            "gridcolor": "white",
            "gridwidth": 2,
            "linecolor": "white",
            "showbackground": true,
            "ticks": "",
            "zerolinecolor": "white"
           },
           "yaxis": {
            "backgroundcolor": "#E5ECF6",
            "gridcolor": "white",
            "gridwidth": 2,
            "linecolor": "white",
            "showbackground": true,
            "ticks": "",
            "zerolinecolor": "white"
           },
           "zaxis": {
            "backgroundcolor": "#E5ECF6",
            "gridcolor": "white",
            "gridwidth": 2,
            "linecolor": "white",
            "showbackground": true,
            "ticks": "",
            "zerolinecolor": "white"
           }
          },
          "shapedefaults": {
           "line": {
            "color": "#2a3f5f"
           }
          },
          "ternary": {
           "aaxis": {
            "gridcolor": "white",
            "linecolor": "white",
            "ticks": ""
           },
           "baxis": {
            "gridcolor": "white",
            "linecolor": "white",
            "ticks": ""
           },
           "bgcolor": "#E5ECF6",
           "caxis": {
            "gridcolor": "white",
            "linecolor": "white",
            "ticks": ""
           }
          },
          "title": {
           "x": 0.05
          },
          "xaxis": {
           "automargin": true,
           "gridcolor": "white",
           "linecolor": "white",
           "ticks": "",
           "title": {
            "standoff": 15
           },
           "zerolinecolor": "white",
           "zerolinewidth": 2
          },
          "yaxis": {
           "automargin": true,
           "gridcolor": "white",
           "linecolor": "white",
           "ticks": "",
           "title": {
            "standoff": 15
           },
           "zerolinecolor": "white",
           "zerolinewidth": 2
          }
         }
        }
       }
      },
      "text/html": [
       "<div>                            <div id=\"f41e49c8-2980-467b-b20a-70642a9c232d\" class=\"plotly-graph-div\" style=\"height:525px; width:100%;\"></div>            <script type=\"text/javascript\">                require([\"plotly\"], function(Plotly) {                    window.PLOTLYENV=window.PLOTLYENV || {};                                    if (document.getElementById(\"f41e49c8-2980-467b-b20a-70642a9c232d\")) {                    Plotly.newPlot(                        \"f41e49c8-2980-467b-b20a-70642a9c232d\",                        [{\"cells\":{\"align\":\"center\",\"fill\":{\"color\":[[\"aliceblue\",\"antiquewhite\",\"aqua\",\"aquamarine\",\"azure\",\"beige\",\"bisque\",\"black\",\"blanchedalmond\",\"blue\",\"blueviolet\",\"brown\",\"burlywood\",\"cadetblue\",\"chartreuse\",\"chocolate\",\"coral\",\"cornflowerblue\",\"cornsilk\",\"crimson\",\"cyan\",\"darkblue\",\"darkcyan\",\"darkgoldenrod\",\"darkgray\",\"darkgrey\",\"darkgreen\",\"darkkhaki\",\"darkmagenta\",\"darkolivegreen\",\"darkorange\",\"darkorchid\",\"darkred\",\"darksalmon\",\"darkseagreen\",\"darkslateblue\",\"darkslategray\",\"darkslategrey\",\"darkturquoise\",\"darkviolet\",\"deeppink\",\"deepskyblue\",\"dimgray\",\"dimgrey\",\"dodgerblue\",\"firebrick\",\"floralwhite\",\"forestgreen\",\"fuchsia\",\"gainsboro\",\"ghostwhite\",\"gold\",\"goldenrod\",\"gray\",\"grey\",\"green\",\"greenyellow\",\"honeydew\",\"hotpink\",\"indianred\",\"indigo\",\"ivory\",\"khaki\",\"lavender\",\"lavenderblush\",\"lawngreen\",\"lemonchiffon\",\"lightblue\",\"lightcoral\",\"lightcyan\",\"lightgoldenrodyellow\",\"lightgray\",\"lightgrey\",\"lightgreen\",\"lightpink\",\"lightsalmon\",\"lightseagreen\",\"lightskyblue\",\"lightslategray\",\"lightslategrey\",\"lightsteelblue\",\"lightyellow\",\"lime\",\"limegreen\",\"linen\",\"magenta\",\"maroon\",\"mediumaquamarine\",\"mediumblue\",\"mediumorchid\",\"mediumpurple\",\"mediumseagreen\",\"mediumslateblue\",\"mediumspringgreen\",\"mediumturquoise\",\"mediumvioletred\",\"midnightblue\",\"mintcream\",\"mistyrose\",\"moccasin\",\"navajowhite\",\"navy\",\"oldlace\",\"olive\",\"olivedrab\",\"orange\",\"orangered\",\"orchid\",\"palegoldenrod\",\"palegreen\",\"paleturquoise\",\"palevioletred\",\"papayawhip\",\"peachpuff\",\"peru\",\"pink\",\"plum\",\"powderblue\",\"purple\",\"red\",\"rosybrown\",\"royalblue\",\"saddlebrown\",\"salmon\",\"sandybrown\",\"seagreen\",\"seashell\",\"sienna\",\"silver\",\"skyblue\",\"slateblue\",\"slategray\",\"slategrey\",\"snow\",\"springgreen\",\"steelblue\",\"tan\",\"teal\",\"thistle\",\"tomato\",\"turquoise\",\"violet\",\"wheat\",\"white\",\"whitesmoke\",\"yellow\",\"yellowgreen\"]]},\"font\":{\"color\":\"black\",\"size\":11},\"line\":{\"color\":[[\"aliceblue\",\"antiquewhite\",\"aqua\",\"aquamarine\",\"azure\",\"beige\",\"bisque\",\"black\",\"blanchedalmond\",\"blue\",\"blueviolet\",\"brown\",\"burlywood\",\"cadetblue\",\"chartreuse\",\"chocolate\",\"coral\",\"cornflowerblue\",\"cornsilk\",\"crimson\",\"cyan\",\"darkblue\",\"darkcyan\",\"darkgoldenrod\",\"darkgray\",\"darkgrey\",\"darkgreen\",\"darkkhaki\",\"darkmagenta\",\"darkolivegreen\",\"darkorange\",\"darkorchid\",\"darkred\",\"darksalmon\",\"darkseagreen\",\"darkslateblue\",\"darkslategray\",\"darkslategrey\",\"darkturquoise\",\"darkviolet\",\"deeppink\",\"deepskyblue\",\"dimgray\",\"dimgrey\",\"dodgerblue\",\"firebrick\",\"floralwhite\",\"forestgreen\",\"fuchsia\",\"gainsboro\",\"ghostwhite\",\"gold\",\"goldenrod\",\"gray\",\"grey\",\"green\",\"greenyellow\",\"honeydew\",\"hotpink\",\"indianred\",\"indigo\",\"ivory\",\"khaki\",\"lavender\",\"lavenderblush\",\"lawngreen\",\"lemonchiffon\",\"lightblue\",\"lightcoral\",\"lightcyan\",\"lightgoldenrodyellow\",\"lightgray\",\"lightgrey\",\"lightgreen\",\"lightpink\",\"lightsalmon\",\"lightseagreen\",\"lightskyblue\",\"lightslategray\",\"lightslategrey\",\"lightsteelblue\",\"lightyellow\",\"lime\",\"limegreen\",\"linen\",\"magenta\",\"maroon\",\"mediumaquamarine\",\"mediumblue\",\"mediumorchid\",\"mediumpurple\",\"mediumseagreen\",\"mediumslateblue\",\"mediumspringgreen\",\"mediumturquoise\",\"mediumvioletred\",\"midnightblue\",\"mintcream\",\"mistyrose\",\"moccasin\",\"navajowhite\",\"navy\",\"oldlace\",\"olive\",\"olivedrab\",\"orange\",\"orangered\",\"orchid\",\"palegoldenrod\",\"palegreen\",\"paleturquoise\",\"palevioletred\",\"papayawhip\",\"peachpuff\",\"peru\",\"pink\",\"plum\",\"powderblue\",\"purple\",\"red\",\"rosybrown\",\"royalblue\",\"saddlebrown\",\"salmon\",\"sandybrown\",\"seagreen\",\"seashell\",\"sienna\",\"silver\",\"skyblue\",\"slateblue\",\"slategray\",\"slategrey\",\"snow\",\"springgreen\",\"steelblue\",\"tan\",\"teal\",\"thistle\",\"tomato\",\"turquoise\",\"violet\",\"wheat\",\"white\",\"whitesmoke\",\"yellow\",\"yellowgreen\"]]},\"values\":[[\"aliceblue\",\"antiquewhite\",\"aqua\",\"aquamarine\",\"azure\",\"beige\",\"bisque\",\"black\",\"blanchedalmond\",\"blue\",\"blueviolet\",\"brown\",\"burlywood\",\"cadetblue\",\"chartreuse\",\"chocolate\",\"coral\",\"cornflowerblue\",\"cornsilk\",\"crimson\",\"cyan\",\"darkblue\",\"darkcyan\",\"darkgoldenrod\",\"darkgray\",\"darkgrey\",\"darkgreen\",\"darkkhaki\",\"darkmagenta\",\"darkolivegreen\",\"darkorange\",\"darkorchid\",\"darkred\",\"darksalmon\",\"darkseagreen\",\"darkslateblue\",\"darkslategray\",\"darkslategrey\",\"darkturquoise\",\"darkviolet\",\"deeppink\",\"deepskyblue\",\"dimgray\",\"dimgrey\",\"dodgerblue\",\"firebrick\",\"floralwhite\",\"forestgreen\",\"fuchsia\",\"gainsboro\",\"ghostwhite\",\"gold\",\"goldenrod\",\"gray\",\"grey\",\"green\",\"greenyellow\",\"honeydew\",\"hotpink\",\"indianred\",\"indigo\",\"ivory\",\"khaki\",\"lavender\",\"lavenderblush\",\"lawngreen\",\"lemonchiffon\",\"lightblue\",\"lightcoral\",\"lightcyan\",\"lightgoldenrodyellow\",\"lightgray\",\"lightgrey\",\"lightgreen\",\"lightpink\",\"lightsalmon\",\"lightseagreen\",\"lightskyblue\",\"lightslategray\",\"lightslategrey\",\"lightsteelblue\",\"lightyellow\",\"lime\",\"limegreen\",\"linen\",\"magenta\",\"maroon\",\"mediumaquamarine\",\"mediumblue\",\"mediumorchid\",\"mediumpurple\",\"mediumseagreen\",\"mediumslateblue\",\"mediumspringgreen\",\"mediumturquoise\",\"mediumvioletred\",\"midnightblue\",\"mintcream\",\"mistyrose\",\"moccasin\",\"navajowhite\",\"navy\",\"oldlace\",\"olive\",\"olivedrab\",\"orange\",\"orangered\",\"orchid\",\"palegoldenrod\",\"palegreen\",\"paleturquoise\",\"palevioletred\",\"papayawhip\",\"peachpuff\",\"peru\",\"pink\",\"plum\",\"powderblue\",\"purple\",\"red\",\"rosybrown\",\"royalblue\",\"saddlebrown\",\"salmon\",\"sandybrown\",\"seagreen\",\"seashell\",\"sienna\",\"silver\",\"skyblue\",\"slateblue\",\"slategray\",\"slategrey\",\"snow\",\"springgreen\",\"steelblue\",\"tan\",\"teal\",\"thistle\",\"tomato\",\"turquoise\",\"violet\",\"wheat\",\"white\",\"whitesmoke\",\"yellow\",\"yellowgreen\"]]},\"header\":{\"align\":\"center\",\"fill\":{\"color\":\"white\"},\"font\":{\"color\":\"black\",\"size\":14},\"line\":{\"color\":\"black\"},\"values\":[\"Plotly Named CSS colours\"]},\"type\":\"table\"}],                        {\"template\":{\"data\":{\"histogram2dcontour\":[{\"type\":\"histogram2dcontour\",\"colorbar\":{\"outlinewidth\":0,\"ticks\":\"\"},\"colorscale\":[[0.0,\"#0d0887\"],[0.1111111111111111,\"#46039f\"],[0.2222222222222222,\"#7201a8\"],[0.3333333333333333,\"#9c179e\"],[0.4444444444444444,\"#bd3786\"],[0.5555555555555556,\"#d8576b\"],[0.6666666666666666,\"#ed7953\"],[0.7777777777777778,\"#fb9f3a\"],[0.8888888888888888,\"#fdca26\"],[1.0,\"#f0f921\"]]}],\"choropleth\":[{\"type\":\"choropleth\",\"colorbar\":{\"outlinewidth\":0,\"ticks\":\"\"}}],\"histogram2d\":[{\"type\":\"histogram2d\",\"colorbar\":{\"outlinewidth\":0,\"ticks\":\"\"},\"colorscale\":[[0.0,\"#0d0887\"],[0.1111111111111111,\"#46039f\"],[0.2222222222222222,\"#7201a8\"],[0.3333333333333333,\"#9c179e\"],[0.4444444444444444,\"#bd3786\"],[0.5555555555555556,\"#d8576b\"],[0.6666666666666666,\"#ed7953\"],[0.7777777777777778,\"#fb9f3a\"],[0.8888888888888888,\"#fdca26\"],[1.0,\"#f0f921\"]]}],\"heatmap\":[{\"type\":\"heatmap\",\"colorbar\":{\"outlinewidth\":0,\"ticks\":\"\"},\"colorscale\":[[0.0,\"#0d0887\"],[0.1111111111111111,\"#46039f\"],[0.2222222222222222,\"#7201a8\"],[0.3333333333333333,\"#9c179e\"],[0.4444444444444444,\"#bd3786\"],[0.5555555555555556,\"#d8576b\"],[0.6666666666666666,\"#ed7953\"],[0.7777777777777778,\"#fb9f3a\"],[0.8888888888888888,\"#fdca26\"],[1.0,\"#f0f921\"]]}],\"heatmapgl\":[{\"type\":\"heatmapgl\",\"colorbar\":{\"outlinewidth\":0,\"ticks\":\"\"},\"colorscale\":[[0.0,\"#0d0887\"],[0.1111111111111111,\"#46039f\"],[0.2222222222222222,\"#7201a8\"],[0.3333333333333333,\"#9c179e\"],[0.4444444444444444,\"#bd3786\"],[0.5555555555555556,\"#d8576b\"],[0.6666666666666666,\"#ed7953\"],[0.7777777777777778,\"#fb9f3a\"],[0.8888888888888888,\"#fdca26\"],[1.0,\"#f0f921\"]]}],\"contourcarpet\":[{\"type\":\"contourcarpet\",\"colorbar\":{\"outlinewidth\":0,\"ticks\":\"\"}}],\"contour\":[{\"type\":\"contour\",\"colorbar\":{\"outlinewidth\":0,\"ticks\":\"\"},\"colorscale\":[[0.0,\"#0d0887\"],[0.1111111111111111,\"#46039f\"],[0.2222222222222222,\"#7201a8\"],[0.3333333333333333,\"#9c179e\"],[0.4444444444444444,\"#bd3786\"],[0.5555555555555556,\"#d8576b\"],[0.6666666666666666,\"#ed7953\"],[0.7777777777777778,\"#fb9f3a\"],[0.8888888888888888,\"#fdca26\"],[1.0,\"#f0f921\"]]}],\"surface\":[{\"type\":\"surface\",\"colorbar\":{\"outlinewidth\":0,\"ticks\":\"\"},\"colorscale\":[[0.0,\"#0d0887\"],[0.1111111111111111,\"#46039f\"],[0.2222222222222222,\"#7201a8\"],[0.3333333333333333,\"#9c179e\"],[0.4444444444444444,\"#bd3786\"],[0.5555555555555556,\"#d8576b\"],[0.6666666666666666,\"#ed7953\"],[0.7777777777777778,\"#fb9f3a\"],[0.8888888888888888,\"#fdca26\"],[1.0,\"#f0f921\"]]}],\"mesh3d\":[{\"type\":\"mesh3d\",\"colorbar\":{\"outlinewidth\":0,\"ticks\":\"\"}}],\"scatter\":[{\"fillpattern\":{\"fillmode\":\"overlay\",\"size\":10,\"solidity\":0.2},\"type\":\"scatter\"}],\"parcoords\":[{\"type\":\"parcoords\",\"line\":{\"colorbar\":{\"outlinewidth\":0,\"ticks\":\"\"}}}],\"scatterpolargl\":[{\"type\":\"scatterpolargl\",\"marker\":{\"colorbar\":{\"outlinewidth\":0,\"ticks\":\"\"}}}],\"bar\":[{\"error_x\":{\"color\":\"#2a3f5f\"},\"error_y\":{\"color\":\"#2a3f5f\"},\"marker\":{\"line\":{\"color\":\"#E5ECF6\",\"width\":0.5},\"pattern\":{\"fillmode\":\"overlay\",\"size\":10,\"solidity\":0.2}},\"type\":\"bar\"}],\"scattergeo\":[{\"type\":\"scattergeo\",\"marker\":{\"colorbar\":{\"outlinewidth\":0,\"ticks\":\"\"}}}],\"scatterpolar\":[{\"type\":\"scatterpolar\",\"marker\":{\"colorbar\":{\"outlinewidth\":0,\"ticks\":\"\"}}}],\"histogram\":[{\"marker\":{\"pattern\":{\"fillmode\":\"overlay\",\"size\":10,\"solidity\":0.2}},\"type\":\"histogram\"}],\"scattergl\":[{\"type\":\"scattergl\",\"marker\":{\"colorbar\":{\"outlinewidth\":0,\"ticks\":\"\"}}}],\"scatter3d\":[{\"type\":\"scatter3d\",\"line\":{\"colorbar\":{\"outlinewidth\":0,\"ticks\":\"\"}},\"marker\":{\"colorbar\":{\"outlinewidth\":0,\"ticks\":\"\"}}}],\"scattermapbox\":[{\"type\":\"scattermapbox\",\"marker\":{\"colorbar\":{\"outlinewidth\":0,\"ticks\":\"\"}}}],\"scatterternary\":[{\"type\":\"scatterternary\",\"marker\":{\"colorbar\":{\"outlinewidth\":0,\"ticks\":\"\"}}}],\"scattercarpet\":[{\"type\":\"scattercarpet\",\"marker\":{\"colorbar\":{\"outlinewidth\":0,\"ticks\":\"\"}}}],\"carpet\":[{\"aaxis\":{\"endlinecolor\":\"#2a3f5f\",\"gridcolor\":\"white\",\"linecolor\":\"white\",\"minorgridcolor\":\"white\",\"startlinecolor\":\"#2a3f5f\"},\"baxis\":{\"endlinecolor\":\"#2a3f5f\",\"gridcolor\":\"white\",\"linecolor\":\"white\",\"minorgridcolor\":\"white\",\"startlinecolor\":\"#2a3f5f\"},\"type\":\"carpet\"}],\"table\":[{\"cells\":{\"fill\":{\"color\":\"#EBF0F8\"},\"line\":{\"color\":\"white\"}},\"header\":{\"fill\":{\"color\":\"#C8D4E3\"},\"line\":{\"color\":\"white\"}},\"type\":\"table\"}],\"barpolar\":[{\"marker\":{\"line\":{\"color\":\"#E5ECF6\",\"width\":0.5},\"pattern\":{\"fillmode\":\"overlay\",\"size\":10,\"solidity\":0.2}},\"type\":\"barpolar\"}],\"pie\":[{\"automargin\":true,\"type\":\"pie\"}]},\"layout\":{\"autotypenumbers\":\"strict\",\"colorway\":[\"#636efa\",\"#EF553B\",\"#00cc96\",\"#ab63fa\",\"#FFA15A\",\"#19d3f3\",\"#FF6692\",\"#B6E880\",\"#FF97FF\",\"#FECB52\"],\"font\":{\"color\":\"#2a3f5f\"},\"hovermode\":\"closest\",\"hoverlabel\":{\"align\":\"left\"},\"paper_bgcolor\":\"white\",\"plot_bgcolor\":\"#E5ECF6\",\"polar\":{\"bgcolor\":\"#E5ECF6\",\"angularaxis\":{\"gridcolor\":\"white\",\"linecolor\":\"white\",\"ticks\":\"\"},\"radialaxis\":{\"gridcolor\":\"white\",\"linecolor\":\"white\",\"ticks\":\"\"}},\"ternary\":{\"bgcolor\":\"#E5ECF6\",\"aaxis\":{\"gridcolor\":\"white\",\"linecolor\":\"white\",\"ticks\":\"\"},\"baxis\":{\"gridcolor\":\"white\",\"linecolor\":\"white\",\"ticks\":\"\"},\"caxis\":{\"gridcolor\":\"white\",\"linecolor\":\"white\",\"ticks\":\"\"}},\"coloraxis\":{\"colorbar\":{\"outlinewidth\":0,\"ticks\":\"\"}},\"colorscale\":{\"sequential\":[[0.0,\"#0d0887\"],[0.1111111111111111,\"#46039f\"],[0.2222222222222222,\"#7201a8\"],[0.3333333333333333,\"#9c179e\"],[0.4444444444444444,\"#bd3786\"],[0.5555555555555556,\"#d8576b\"],[0.6666666666666666,\"#ed7953\"],[0.7777777777777778,\"#fb9f3a\"],[0.8888888888888888,\"#fdca26\"],[1.0,\"#f0f921\"]],\"sequentialminus\":[[0.0,\"#0d0887\"],[0.1111111111111111,\"#46039f\"],[0.2222222222222222,\"#7201a8\"],[0.3333333333333333,\"#9c179e\"],[0.4444444444444444,\"#bd3786\"],[0.5555555555555556,\"#d8576b\"],[0.6666666666666666,\"#ed7953\"],[0.7777777777777778,\"#fb9f3a\"],[0.8888888888888888,\"#fdca26\"],[1.0,\"#f0f921\"]],\"diverging\":[[0,\"#8e0152\"],[0.1,\"#c51b7d\"],[0.2,\"#de77ae\"],[0.3,\"#f1b6da\"],[0.4,\"#fde0ef\"],[0.5,\"#f7f7f7\"],[0.6,\"#e6f5d0\"],[0.7,\"#b8e186\"],[0.8,\"#7fbc41\"],[0.9,\"#4d9221\"],[1,\"#276419\"]]},\"xaxis\":{\"gridcolor\":\"white\",\"linecolor\":\"white\",\"ticks\":\"\",\"title\":{\"standoff\":15},\"zerolinecolor\":\"white\",\"automargin\":true,\"zerolinewidth\":2},\"yaxis\":{\"gridcolor\":\"white\",\"linecolor\":\"white\",\"ticks\":\"\",\"title\":{\"standoff\":15},\"zerolinecolor\":\"white\",\"automargin\":true,\"zerolinewidth\":2},\"scene\":{\"xaxis\":{\"backgroundcolor\":\"#E5ECF6\",\"gridcolor\":\"white\",\"linecolor\":\"white\",\"showbackground\":true,\"ticks\":\"\",\"zerolinecolor\":\"white\",\"gridwidth\":2},\"yaxis\":{\"backgroundcolor\":\"#E5ECF6\",\"gridcolor\":\"white\",\"linecolor\":\"white\",\"showbackground\":true,\"ticks\":\"\",\"zerolinecolor\":\"white\",\"gridwidth\":2},\"zaxis\":{\"backgroundcolor\":\"#E5ECF6\",\"gridcolor\":\"white\",\"linecolor\":\"white\",\"showbackground\":true,\"ticks\":\"\",\"zerolinecolor\":\"white\",\"gridwidth\":2}},\"shapedefaults\":{\"line\":{\"color\":\"#2a3f5f\"}},\"annotationdefaults\":{\"arrowcolor\":\"#2a3f5f\",\"arrowhead\":0,\"arrowwidth\":1},\"geo\":{\"bgcolor\":\"white\",\"landcolor\":\"#E5ECF6\",\"subunitcolor\":\"white\",\"showland\":true,\"showlakes\":true,\"lakecolor\":\"white\"},\"title\":{\"x\":0.05},\"mapbox\":{\"style\":\"light\"}}}},                        {\"responsive\": true}                    ).then(function(){\n",
       "                            \n",
       "var gd = document.getElementById('f41e49c8-2980-467b-b20a-70642a9c232d');\n",
       "var x = new MutationObserver(function (mutations, observer) {{\n",
       "        var display = window.getComputedStyle(gd).display;\n",
       "        if (!display || display === 'none') {{\n",
       "            console.log([gd, 'removed!']);\n",
       "            Plotly.purge(gd);\n",
       "            observer.disconnect();\n",
       "        }}\n",
       "}});\n",
       "\n",
       "// Listen for the removal of the full notebook cells\n",
       "var notebookContainer = gd.closest('#notebook-container');\n",
       "if (notebookContainer) {{\n",
       "    x.observe(notebookContainer, {childList: true});\n",
       "}}\n",
       "\n",
       "// Listen for the clearing of the current output cell\n",
       "var outputEl = gd.closest('.output');\n",
       "if (outputEl) {{\n",
       "    x.observe(outputEl, {childList: true});\n",
       "}}\n",
       "\n",
       "                        })                };                });            </script>        </div>"
      ]
     },
     "metadata": {},
     "output_type": "display_data"
    }
   ],
   "source": [
    "def show_named_plotly_colours():\n",
    "    \"\"\"\n",
    "    function to display to user the colours to match plotly's named\n",
    "    css colours.\n",
    "\n",
    "    Reference:\n",
    "        #https://community.plotly.com/t/plotly-colours-list/11730/3\n",
    "\n",
    "    Returns:\n",
    "        plotly dataframe with cell colour to match named colour name\n",
    "\n",
    "    \"\"\"\n",
    "    s='''\n",
    "        aliceblue, antiquewhite, aqua, aquamarine, azure,\n",
    "        beige, bisque, black, blanchedalmond, blue,\n",
    "        blueviolet, brown, burlywood, cadetblue,\n",
    "        chartreuse, chocolate, coral, cornflowerblue,\n",
    "        cornsilk, crimson, cyan, darkblue, darkcyan,\n",
    "        darkgoldenrod, darkgray, darkgrey, darkgreen,\n",
    "        darkkhaki, darkmagenta, darkolivegreen, darkorange,\n",
    "        darkorchid, darkred, darksalmon, darkseagreen,\n",
    "        darkslateblue, darkslategray, darkslategrey,\n",
    "        darkturquoise, darkviolet, deeppink, deepskyblue,\n",
    "        dimgray, dimgrey, dodgerblue, firebrick,\n",
    "        floralwhite, forestgreen, fuchsia, gainsboro,\n",
    "        ghostwhite, gold, goldenrod, gray, grey, green,\n",
    "        greenyellow, honeydew, hotpink, indianred, indigo,\n",
    "        ivory, khaki, lavender, lavenderblush, lawngreen,\n",
    "        lemonchiffon, lightblue, lightcoral, lightcyan,\n",
    "        lightgoldenrodyellow, lightgray, lightgrey,\n",
    "        lightgreen, lightpink, lightsalmon, lightseagreen,\n",
    "        lightskyblue, lightslategray, lightslategrey,\n",
    "        lightsteelblue, lightyellow, lime, limegreen,\n",
    "        linen, magenta, maroon, mediumaquamarine,\n",
    "        mediumblue, mediumorchid, mediumpurple,\n",
    "        mediumseagreen, mediumslateblue, mediumspringgreen,\n",
    "        mediumturquoise, mediumvioletred, midnightblue,\n",
    "        mintcream, mistyrose, moccasin, navajowhite, navy,\n",
    "        oldlace, olive, olivedrab, orange, orangered,\n",
    "        orchid, palegoldenrod, palegreen, paleturquoise,\n",
    "        palevioletred, papayawhip, peachpuff, peru, pink,\n",
    "        plum, powderblue, purple, red, rosybrown,\n",
    "        royalblue, saddlebrown, salmon, sandybrown,\n",
    "        seagreen, seashell, sienna, silver, skyblue,\n",
    "        slateblue, slategray, slategrey, snow, springgreen,\n",
    "        steelblue, tan, teal, thistle, tomato, turquoise,\n",
    "        violet, wheat, white, whitesmoke, yellow,\n",
    "        yellowgreen\n",
    "        '''\n",
    "    li=s.split(',')\n",
    "    li=[l.replace('\\n','') for l in li]\n",
    "    li=[l.replace(' ','') for l in li]\n",
    "\n",
    "    import pandas as pd\n",
    "    import plotly.graph_objects as go\n",
    "\n",
    "    df=pd.DataFrame.from_dict({'colour': li})\n",
    "    fig = go.Figure(data=[go.Table(\n",
    "      header=dict(\n",
    "        values=[\"Plotly Named CSS colours\"],\n",
    "        line_color='black', fill_color='white',\n",
    "        align='center', font=dict(color='black', size=14)\n",
    "      ),\n",
    "      cells=dict(\n",
    "        values=[df.colour],\n",
    "        line_color=[df.colour], fill_color=[df.colour],\n",
    "        align='center', font=dict(color='black', size=11)\n",
    "      ))\n",
    "    ])\n",
    "\n",
    "    fig.show()\n",
    "\n",
    "show_named_plotly_colours()"
   ]
  },
  {
   "cell_type": "code",
   "execution_count": null,
   "metadata": {},
   "outputs": [],
   "source": []
  },
  {
   "cell_type": "code",
   "execution_count": null,
   "metadata": {},
   "outputs": [],
   "source": []
  }
 ],
 "metadata": {
  "kernelspec": {
   "display_name": "Python 3 (ipykernel)",
   "language": "python",
   "name": "python3"
  },
  "language_info": {
   "codemirror_mode": {
    "name": "ipython",
    "version": 3
   },
   "file_extension": ".py",
   "mimetype": "text/x-python",
   "name": "python",
   "nbconvert_exporter": "python",
   "pygments_lexer": "ipython3",
   "version": "3.8.10"
  }
 },
 "nbformat": 4,
 "nbformat_minor": 2
}
